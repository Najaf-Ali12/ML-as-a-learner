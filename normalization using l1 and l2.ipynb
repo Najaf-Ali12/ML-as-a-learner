{
 "cells": [
  {
   "cell_type": "markdown",
   "id": "1015ddde-b6ca-48f1-b04d-bdc62e0428e8",
   "metadata": {},
   "source": [
    "#NORMALIZATION"
   ]
  },
  {
   "cell_type": "markdown",
   "id": "0108f789-9aba-43da-be6f-b51a2b98326e",
   "metadata": {},
   "source": [
    "L1 NORMALIZATION:\n",
    "The L1 norm, also known as the Manhattan norm or the Taxicab norm, calculates the sum of the absolute values of the vector elements. \n",
    "Mathematically, the L1 norm of a vector x with n elements can be defined as: ||x||₁ = |x₁| + |x₂| + … + |xₙ|"
   ]
  },
  {
   "cell_type": "markdown",
   "id": "005ec490-6e08-423e-9f9e-bcacdb626043",
   "metadata": {},
   "source": [
    "L2 NORMALIZATION: \n",
    "L2 normalization, also known as Euclidean normalization, is a technique used in machine learning to scale input features \n",
    "so that the Euclidean length of the vectors is one1. It calculates the square root of the sum of the squared values of the vector elements2. \n",
    "L2 normalization converts each data point into a unit vector by dividing each element of the data by the L2 norm"
   ]
  },
  {
   "cell_type": "code",
   "execution_count": 17,
   "id": "55d515ff-68b6-4071-9def-897ee1fc48e5",
   "metadata": {},
   "outputs": [],
   "source": [
    "#importing required libraries\n",
    "import pandas as pd\n",
    "from sklearn.preprocessing import Normalizer"
   ]
  },
  {
   "cell_type": "code",
   "execution_count": 18,
   "id": "14ddb58d-f920-46c3-a0df-5b7ba0254038",
   "metadata": {},
   "outputs": [],
   "source": [
    "#in above the first row is obtained by adding the sum of all element of vector and then giving root to the sum and dividing by sum or\n",
    "#formula of l2 for each row(vector) is [{(x1**2+x2**2+x3**2+....+xn**2)**1/2}/(x1**2+x2**2+....+xn**2)]*datapoint"
   ]
  },
  {
   "cell_type": "code",
   "execution_count": 19,
   "id": "31292dad-8e45-4940-a219-39b1e651ad11",
   "metadata": {},
   "outputs": [
    {
     "name": "stdout",
     "output_type": "stream",
     "text": [
      "   C1 C2 C3\n",
      "R1  2  4  3\n",
      "R2  5  7  9\n",
      "R3  2  3  0\n"
     ]
    }
   ],
   "source": [
    "#creating and managing data to work with\n",
    "data=[[2,4,3],[5,7,9],[2,3,0]]\n",
    "df=pd.DataFrame(data, columns=[[\"C1\",\"C2\",\"C3\"]],index=[[\"R1\",\"R2\",\"R3\"]])  #here dataframe is created to understand l2 calculations correctly\n",
    "print(df)"
   ]
  },
  {
   "cell_type": "code",
   "execution_count": 20,
   "id": "81c7f879-1b9e-47bd-92ab-7f72283ac6ec",
   "metadata": {},
   "outputs": [
    {
     "name": "stdout",
     "output_type": "stream",
     "text": [
      "[[0.37139068 0.74278135 0.55708601]\n",
      " [0.40160966 0.56225353 0.7228974 ]\n",
      " [0.5547002  0.83205029 0.        ]]\n"
     ]
    }
   ],
   "source": [
    "#normalizing data using l2\n",
    "normalizer=Normalizer(norm=\"l2\")\n",
    "print(normalizer.fit_transform(df))  #you can directly fit transform to data if want as done in code of l1"
   ]
  },
  {
   "cell_type": "code",
   "execution_count": 24,
   "id": "cc7da19e-f7f3-4e67-8aa8-95263e09af80",
   "metadata": {},
   "outputs": [
    {
     "name": "stdout",
     "output_type": "stream",
     "text": [
      "[[0.22222222 0.44444444 0.33333333]\n",
      " [0.23809524 0.33333333 0.42857143]\n",
      " [0.4        0.6        0.        ]]\n"
     ]
    }
   ],
   "source": [
    "#normalizing data using l1\n",
    "normalizer=Normalizer(norm=\"l1\")\n",
    "print(normalizer.fit_transform(df))"
   ]
  },
  {
   "cell_type": "code",
   "execution_count": 22,
   "id": "73d65e60-99e4-48c4-938b-48e4610031fb",
   "metadata": {},
   "outputs": [],
   "source": [
    "#l1 is obtained by formula which is |(each_data_point)|/|sum_of_datapoints|"
   ]
  },
  {
   "cell_type": "code",
   "execution_count": 28,
   "id": "d601b5a9-470d-491e-b8f3-3ebb9372921f",
   "metadata": {},
   "outputs": [
    {
     "data": {
      "text/html": [
       "<div>\n",
       "<style scoped>\n",
       "    .dataframe tbody tr th:only-of-type {\n",
       "        vertical-align: middle;\n",
       "    }\n",
       "\n",
       "    .dataframe tbody tr th {\n",
       "        vertical-align: top;\n",
       "    }\n",
       "\n",
       "    .dataframe thead th {\n",
       "        text-align: right;\n",
       "    }\n",
       "</style>\n",
       "<table border=\"1\" class=\"dataframe\">\n",
       "  <thead>\n",
       "    <tr style=\"text-align: right;\">\n",
       "      <th></th>\n",
       "      <th>values</th>\n",
       "    </tr>\n",
       "  </thead>\n",
       "  <tbody>\n",
       "    <tr>\n",
       "      <th>0</th>\n",
       "      <td>1</td>\n",
       "    </tr>\n",
       "    <tr>\n",
       "      <th>1</th>\n",
       "      <td>2</td>\n",
       "    </tr>\n",
       "    <tr>\n",
       "      <th>2</th>\n",
       "      <td>5</td>\n",
       "    </tr>\n",
       "    <tr>\n",
       "      <th>3</th>\n",
       "      <td>10</td>\n",
       "    </tr>\n",
       "    <tr>\n",
       "      <th>4</th>\n",
       "      <td>20</td>\n",
       "    </tr>\n",
       "    <tr>\n",
       "      <th>5</th>\n",
       "      <td>50</td>\n",
       "    </tr>\n",
       "    <tr>\n",
       "      <th>6</th>\n",
       "      <td>100</td>\n",
       "    </tr>\n",
       "    <tr>\n",
       "      <th>7</th>\n",
       "      <td>200</td>\n",
       "    </tr>\n",
       "    <tr>\n",
       "      <th>8</th>\n",
       "      <td>500</td>\n",
       "    </tr>\n",
       "    <tr>\n",
       "      <th>9</th>\n",
       "      <td>1000</td>\n",
       "    </tr>\n",
       "    <tr>\n",
       "      <th>10</th>\n",
       "      <td>2000</td>\n",
       "    </tr>\n",
       "    <tr>\n",
       "      <th>11</th>\n",
       "      <td>5000</td>\n",
       "    </tr>\n",
       "    <tr>\n",
       "      <th>12</th>\n",
       "      <td>10000</td>\n",
       "    </tr>\n",
       "    <tr>\n",
       "      <th>13</th>\n",
       "      <td>20000</td>\n",
       "    </tr>\n",
       "    <tr>\n",
       "      <th>14</th>\n",
       "      <td>50000</td>\n",
       "    </tr>\n",
       "    <tr>\n",
       "      <th>15</th>\n",
       "      <td>100000</td>\n",
       "    </tr>\n",
       "  </tbody>\n",
       "</table>\n",
       "</div>"
      ],
      "text/plain": [
       "    values\n",
       "0        1\n",
       "1        2\n",
       "2        5\n",
       "3       10\n",
       "4       20\n",
       "5       50\n",
       "6      100\n",
       "7      200\n",
       "8      500\n",
       "9     1000\n",
       "10    2000\n",
       "11    5000\n",
       "12   10000\n",
       "13   20000\n",
       "14   50000\n",
       "15  100000"
      ]
     },
     "execution_count": 28,
     "metadata": {},
     "output_type": "execute_result"
    }
   ],
   "source": [
    "#creating example skewed data\n",
    "values={\"values\":[1,2,5,10,20,50,100,200,500,1000,2000,5000,10000,20000,50000,100000]}\n",
    "dataframe=pd.DataFrame(values)\n",
    "dataframe"
   ]
  },
  {
   "cell_type": "code",
   "execution_count": 29,
   "id": "703ae22c-703f-4bb0-807b-a9e0760fd69e",
   "metadata": {},
   "outputs": [
    {
     "data": {
      "text/html": [
       "<div>\n",
       "<style scoped>\n",
       "    .dataframe tbody tr th:only-of-type {\n",
       "        vertical-align: middle;\n",
       "    }\n",
       "\n",
       "    .dataframe tbody tr th {\n",
       "        vertical-align: top;\n",
       "    }\n",
       "\n",
       "    .dataframe thead th {\n",
       "        text-align: right;\n",
       "    }\n",
       "</style>\n",
       "<table border=\"1\" class=\"dataframe\">\n",
       "  <thead>\n",
       "    <tr style=\"text-align: right;\">\n",
       "      <th></th>\n",
       "      <th>values</th>\n",
       "      <th>log-values</th>\n",
       "    </tr>\n",
       "  </thead>\n",
       "  <tbody>\n",
       "    <tr>\n",
       "      <th>0</th>\n",
       "      <td>1</td>\n",
       "      <td>0.000000</td>\n",
       "    </tr>\n",
       "    <tr>\n",
       "      <th>1</th>\n",
       "      <td>2</td>\n",
       "      <td>0.693147</td>\n",
       "    </tr>\n",
       "    <tr>\n",
       "      <th>2</th>\n",
       "      <td>5</td>\n",
       "      <td>1.609438</td>\n",
       "    </tr>\n",
       "    <tr>\n",
       "      <th>3</th>\n",
       "      <td>10</td>\n",
       "      <td>2.302585</td>\n",
       "    </tr>\n",
       "    <tr>\n",
       "      <th>4</th>\n",
       "      <td>20</td>\n",
       "      <td>2.995732</td>\n",
       "    </tr>\n",
       "    <tr>\n",
       "      <th>5</th>\n",
       "      <td>50</td>\n",
       "      <td>3.912023</td>\n",
       "    </tr>\n",
       "    <tr>\n",
       "      <th>6</th>\n",
       "      <td>100</td>\n",
       "      <td>4.605170</td>\n",
       "    </tr>\n",
       "    <tr>\n",
       "      <th>7</th>\n",
       "      <td>200</td>\n",
       "      <td>5.298317</td>\n",
       "    </tr>\n",
       "    <tr>\n",
       "      <th>8</th>\n",
       "      <td>500</td>\n",
       "      <td>6.214608</td>\n",
       "    </tr>\n",
       "    <tr>\n",
       "      <th>9</th>\n",
       "      <td>1000</td>\n",
       "      <td>6.907755</td>\n",
       "    </tr>\n",
       "    <tr>\n",
       "      <th>10</th>\n",
       "      <td>2000</td>\n",
       "      <td>7.600902</td>\n",
       "    </tr>\n",
       "    <tr>\n",
       "      <th>11</th>\n",
       "      <td>5000</td>\n",
       "      <td>8.517193</td>\n",
       "    </tr>\n",
       "    <tr>\n",
       "      <th>12</th>\n",
       "      <td>10000</td>\n",
       "      <td>9.210340</td>\n",
       "    </tr>\n",
       "    <tr>\n",
       "      <th>13</th>\n",
       "      <td>20000</td>\n",
       "      <td>9.903488</td>\n",
       "    </tr>\n",
       "    <tr>\n",
       "      <th>14</th>\n",
       "      <td>50000</td>\n",
       "      <td>10.819778</td>\n",
       "    </tr>\n",
       "    <tr>\n",
       "      <th>15</th>\n",
       "      <td>100000</td>\n",
       "      <td>11.512925</td>\n",
       "    </tr>\n",
       "  </tbody>\n",
       "</table>\n",
       "</div>"
      ],
      "text/plain": [
       "    values  log-values\n",
       "0        1    0.000000\n",
       "1        2    0.693147\n",
       "2        5    1.609438\n",
       "3       10    2.302585\n",
       "4       20    2.995732\n",
       "5       50    3.912023\n",
       "6      100    4.605170\n",
       "7      200    5.298317\n",
       "8      500    6.214608\n",
       "9     1000    6.907755\n",
       "10    2000    7.600902\n",
       "11    5000    8.517193\n",
       "12   10000    9.210340\n",
       "13   20000    9.903488\n",
       "14   50000   10.819778\n",
       "15  100000   11.512925"
      ]
     },
     "execution_count": 29,
     "metadata": {},
     "output_type": "execute_result"
    }
   ],
   "source": [
    "#log tranformation\n",
    "import numpy as np\n",
    "dataframe[\"log-values\"]=np.log(dataframe[\"values\"])\n",
    "dataframe"
   ]
  },
  {
   "cell_type": "code",
   "execution_count": 35,
   "id": "0b4a583b-5ea0-4ff5-99e2-2f1b6246e936",
   "metadata": {},
   "outputs": [
    {
     "data": {
      "image/png": "[encoded data removed]",
      "text/plain": [
       "<Figure size 640x480 with 1 Axes>"
      ]
     },
     "metadata": {},
     "output_type": "display_data"
    },
    {
     "data": {
      "image/png": "[encoded data removed]",
      "text/plain": [
       "<Figure size 640x480 with 1 Axes>"
      ]
     },
     "metadata": {},
     "output_type": "display_data"
    }
   ],
   "source": [
    "#creating histograms of each columns\n",
    "import matplotlib.pyplot as plt\n",
    "import seaborn as sns\n",
    "for each in dataframe.columns:\n",
    "    sns.histplot(dataframe[each], kde=True)\n",
    "    plt.show()\n",
    "    "
   ]
  },
  {
   "cell_type": "code",
   "execution_count": null,
   "id": "1874ded2-fb12-4352-9f79-91ee2f8d028c",
   "metadata": {},
   "outputs": [],
   "source": []
  }
 ],
 "metadata": {
  "kernelspec": {
   "display_name": "Python 3 (ipykernel)",
   "language": "python",
   "name": "python3"
  },
  "language_info": {
   "codemirror_mode": {
    "name": "ipython",
    "version": 3
   },
   "file_extension": ".py",
   "mimetype": "text/x-python",
   "name": "python",
   "nbconvert_exporter": "python",
   "pygments_lexer": "ipython3",
   "version": "3.12.3"
  }
 },
 "nbformat": 4,
 "nbformat_minor": 5
}
