{
 "cells": [
  {
   "cell_type": "markdown",
   "id": "02355d1b-a610-4bce-8dbf-514d5c71656e",
   "metadata": {},
   "source": [
    "MaxAbsScaler:It scales data between -1 to 1"
   ]
  },
  {
   "cell_type": "markdown",
   "id": "1055794a-f2ec-4e27-b4ec-b4cabc04908f",
   "metadata": {},
   "source": [
    "Warning Risk of data leak :Do not use minmax_scale unless you know what you are doing.\n",
    "A common mistake is to apply it to the entire data before splitting into training and test sets. \n",
    "This will bias the model evaluation because information would have leaked from the test set to the training set. \n",
    "In general, we recommend using MinMaxScaler within a Pipeline in order to prevent most risks of data leaking: \n",
    "pipe = make_pipeline(MinMaxScaler(), LogisticRegression())."
   ]
  },
  {
   "cell_type": "markdown",
   "id": "736f71bb-383b-4cc0-8c1b-08e7206de8e4",
   "metadata": {},
   "source": [
    "MaxAbs works on this formula: \n",
    "\n",
    "\n",
    "\n",
    "maxabs_of_each_Value=eachvalue/maxvalue of column"
   ]
  },
  {
   "cell_type": "code",
   "execution_count": 2,
   "id": "797a040a-40e4-421a-917a-23753c23f333",
   "metadata": {},
   "outputs": [],
   "source": [
    "#importing required libraries\n",
    "import pandas as pd\n",
    "from sklearn.preprocessing import MaxAbsScaler"
   ]
  },
  {
   "cell_type": "code",
   "execution_count": 3,
   "id": "d3058ef6-1eff-4dcf-915e-2a6dbc861a2e",
   "metadata": {},
   "outputs": [],
   "source": [
    "#creating a sample data\n",
    "data={\n",
    "    \"Age\":[10,2,19,15,20,13],\n",
    "    \"Salary\":[10000,20000,15000,3000,240000,300000],\n",
    "    \"Height\":[123,234,120,190,99,105]}"
   ]
  },
  {
   "cell_type": "code",
   "execution_count": 4,
   "id": "726ab33c-20f9-4ebf-91bf-d55f96591a24",
   "metadata": {},
   "outputs": [
    {
     "name": "stdout",
     "output_type": "stream",
     "text": [
      "   Age  Salary  Height\n",
      "0   10   10000     123\n",
      "1    2   20000     234\n",
      "2   19   15000     120\n",
      "3   15    3000     190\n",
      "4   20  240000      99\n",
      "5   13  300000     105\n"
     ]
    }
   ],
   "source": [
    "#converting data in pandas DataFrame\n",
    "df=pd.DataFrame(data)\n",
    "print(df)"
   ]
  },
  {
   "cell_type": "code",
   "execution_count": 5,
   "id": "6de60e18-1b4e-4dd2-8de5-116514a40e66",
   "metadata": {},
   "outputs": [
    {
     "data": {
      "text/plain": [
       "array([[0.5       , 0.03333333, 0.52564103],\n",
       "       [0.1       , 0.06666667, 1.        ],\n",
       "       [0.95      , 0.05      , 0.51282051],\n",
       "       [0.75      , 0.01      , 0.81196581],\n",
       "       [1.        , 0.8       , 0.42307692],\n",
       "       [0.65      , 1.        , 0.44871795]])"
      ]
     },
     "execution_count": 5,
     "metadata": {},
     "output_type": "execute_result"
    }
   ],
   "source": [
    "#main lines of MaxAbs Scaler\n",
    "scaler=MaxAbsScaler()\n",
    "scaled_data=scaler.fit_transform(df)\n",
    "scaled_data"
   ]
  },
  {
   "cell_type": "code",
   "execution_count": 6,
   "id": "cd980153-eec8-40bd-8739-886ba0c45b02",
   "metadata": {},
   "outputs": [
    {
     "data": {
      "text/html": [
       "<div>\n",
       "<style scoped>\n",
       "    .dataframe tbody tr th:only-of-type {\n",
       "        vertical-align: middle;\n",
       "    }\n",
       "\n",
       "    .dataframe tbody tr th {\n",
       "        vertical-align: top;\n",
       "    }\n",
       "\n",
       "    .dataframe thead th {\n",
       "        text-align: right;\n",
       "    }\n",
       "</style>\n",
       "<table border=\"1\" class=\"dataframe\">\n",
       "  <thead>\n",
       "    <tr style=\"text-align: right;\">\n",
       "      <th></th>\n",
       "      <th>Age</th>\n",
       "      <th>Salary</th>\n",
       "      <th>Height</th>\n",
       "    </tr>\n",
       "  </thead>\n",
       "  <tbody>\n",
       "    <tr>\n",
       "      <th>0</th>\n",
       "      <td>0.50</td>\n",
       "      <td>0.033333</td>\n",
       "      <td>0.525641</td>\n",
       "    </tr>\n",
       "    <tr>\n",
       "      <th>1</th>\n",
       "      <td>0.10</td>\n",
       "      <td>0.066667</td>\n",
       "      <td>1.000000</td>\n",
       "    </tr>\n",
       "    <tr>\n",
       "      <th>2</th>\n",
       "      <td>0.95</td>\n",
       "      <td>0.050000</td>\n",
       "      <td>0.512821</td>\n",
       "    </tr>\n",
       "    <tr>\n",
       "      <th>3</th>\n",
       "      <td>0.75</td>\n",
       "      <td>0.010000</td>\n",
       "      <td>0.811966</td>\n",
       "    </tr>\n",
       "    <tr>\n",
       "      <th>4</th>\n",
       "      <td>1.00</td>\n",
       "      <td>0.800000</td>\n",
       "      <td>0.423077</td>\n",
       "    </tr>\n",
       "    <tr>\n",
       "      <th>5</th>\n",
       "      <td>0.65</td>\n",
       "      <td>1.000000</td>\n",
       "      <td>0.448718</td>\n",
       "    </tr>\n",
       "  </tbody>\n",
       "</table>\n",
       "</div>"
      ],
      "text/plain": [
       "    Age    Salary    Height\n",
       "0  0.50  0.033333  0.525641\n",
       "1  0.10  0.066667  1.000000\n",
       "2  0.95  0.050000  0.512821\n",
       "3  0.75  0.010000  0.811966\n",
       "4  1.00  0.800000  0.423077\n",
       "5  0.65  1.000000  0.448718"
      ]
     },
     "execution_count": 6,
     "metadata": {},
     "output_type": "execute_result"
    }
   ],
   "source": [
    "scaled_dataframe=pd.DataFrame(scaled_data, columns=df.columns)\n",
    "scaled_dataframe"
   ]
  },
  {
   "cell_type": "code",
   "execution_count": null,
   "id": "2bd0291c-4b58-4815-add5-de5314c1f7d9",
   "metadata": {},
   "outputs": [],
   "source": []
  }
 ],
 "metadata": {
  "kernelspec": {
   "display_name": "Python 3 (ipykernel)",
   "language": "python",
   "name": "python3"
  },
  "language_info": {
   "codemirror_mode": {
    "name": "ipython",
    "version": 3
   },
   "file_extension": ".py",
   "mimetype": "text/x-python",
   "name": "python",
   "nbconvert_exporter": "python",
   "pygments_lexer": "ipython3",
   "version": "3.12.3"
  }
 },
 "nbformat": 4,
 "nbformat_minor": 5
}
