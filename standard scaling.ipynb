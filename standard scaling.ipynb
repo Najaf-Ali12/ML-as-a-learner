{
 "cells": [
  {
   "cell_type": "markdown",
   "id": "dd469f24-bfc3-4d0f-af8f-6203b1fb190b",
   "metadata": {},
   "source": [
    "#Standard Scaling:\n",
    "Standard Scaling is the method of Scaling data such that the distribution of data is concerned around 0, with a standard deviation of 1. This is done by subtracting mean of the data from each data point and then dividing by standard deviation of the data. This is very common method of scaling data, and is used in many machine learning algorithm.\n",
    "It scales data between -3 to +3.\n",
    "Its formula is as follows:\n",
    "z = (x - u) / s\n",
    "where:\n",
    "\n",
    "z is the scaled data.\n",
    "\n",
    "x is the original data.\n",
    "\n",
    "u is the mean of the training samples.\n",
    "\n",
    "s is the standard deviation of the training samples"
   ]
  },
  {
   "cell_type": "code",
   "execution_count": 35,
   "id": "9aa8c90c-6d35-44ac-9cee-29e9975d3a23",
   "metadata": {},
   "outputs": [],
   "source": [
    "#importing libraries\n",
    "import pandas as pd\n",
    "from sklearn.preprocessing import StandardScaler"
   ]
  },
  {
   "cell_type": "code",
   "execution_count": 36,
   "id": "ed85dfe3-906f-4b55-be6b-338d2948d5df",
   "metadata": {},
   "outputs": [],
   "source": [
    "#creating a sample data\n",
    "data={\n",
    "    \"Age\":[10,2,19,15,20,13],\n",
    "    \"Salary\":[10000,20000,15000,3000,240000,300000],\n",
    "    \"Height\":[123,234,120,190,99,105]}"
   ]
  },
  {
   "cell_type": "code",
   "execution_count": 37,
   "id": "907d14a8-db16-45f4-9681-eca532e7259e",
   "metadata": {},
   "outputs": [
    {
     "name": "stdout",
     "output_type": "stream",
     "text": [
      "   Age  Salary  Height\n",
      "0   10   10000     123\n",
      "1    2   20000     234\n",
      "2   19   15000     120\n",
      "3   15    3000     190\n",
      "4   20  240000      99\n",
      "5   13  300000     105\n"
     ]
    }
   ],
   "source": [
    "#converting data in pandas DataFrame\n",
    "df=pd.DataFrame(data)\n",
    "print(df)"
   ]
  },
  {
   "cell_type": "code",
   "execution_count": 38,
   "id": "4bae2c00-712e-4f74-9f57-fc65eb58f3ed",
   "metadata": {},
   "outputs": [
    {
     "data": {
      "text/plain": [
       "array([[-0.52434996, -0.7156995 , -0.44675921],\n",
       "       [-1.84902354, -0.63437001,  1.79039594],\n",
       "       [ 0.96590782, -0.67503476, -0.50722287],\n",
       "       [ 0.30357103, -0.77263014,  0.9035957 ],\n",
       "       [ 1.13149202,  1.15487874, -0.93046844],\n",
       "       [-0.02759737,  1.64285567, -0.80954113]])"
      ]
     },
     "execution_count": 38,
     "metadata": {},
     "output_type": "execute_result"
    }
   ],
   "source": [
    "#scaling process\n",
    "scaler=StandardScaler()\n",
    "scaled_data=scaler.fit(df)\n",
    "scaled_data=scaler.transform(df)\n",
    "scaled_data"
   ]
  },
  {
   "cell_type": "code",
   "execution_count": 39,
   "id": "37feca80-20f4-4eaf-b225-f791480f6b28",
   "metadata": {},
   "outputs": [
    {
     "data": {
      "text/html": [
       "<div>\n",
       "<style scoped>\n",
       "    .dataframe tbody tr th:only-of-type {\n",
       "        vertical-align: middle;\n",
       "    }\n",
       "\n",
       "    .dataframe tbody tr th {\n",
       "        vertical-align: top;\n",
       "    }\n",
       "\n",
       "    .dataframe thead th {\n",
       "        text-align: right;\n",
       "    }\n",
       "</style>\n",
       "<table border=\"1\" class=\"dataframe\">\n",
       "  <thead>\n",
       "    <tr style=\"text-align: right;\">\n",
       "      <th></th>\n",
       "      <th>Age</th>\n",
       "      <th>Salary</th>\n",
       "      <th>Height</th>\n",
       "    </tr>\n",
       "  </thead>\n",
       "  <tbody>\n",
       "    <tr>\n",
       "      <th>0</th>\n",
       "      <td>-0.524350</td>\n",
       "      <td>-0.715700</td>\n",
       "      <td>-0.446759</td>\n",
       "    </tr>\n",
       "    <tr>\n",
       "      <th>1</th>\n",
       "      <td>-1.849024</td>\n",
       "      <td>-0.634370</td>\n",
       "      <td>1.790396</td>\n",
       "    </tr>\n",
       "    <tr>\n",
       "      <th>2</th>\n",
       "      <td>0.965908</td>\n",
       "      <td>-0.675035</td>\n",
       "      <td>-0.507223</td>\n",
       "    </tr>\n",
       "    <tr>\n",
       "      <th>3</th>\n",
       "      <td>0.303571</td>\n",
       "      <td>-0.772630</td>\n",
       "      <td>0.903596</td>\n",
       "    </tr>\n",
       "    <tr>\n",
       "      <th>4</th>\n",
       "      <td>1.131492</td>\n",
       "      <td>1.154879</td>\n",
       "      <td>-0.930468</td>\n",
       "    </tr>\n",
       "    <tr>\n",
       "      <th>5</th>\n",
       "      <td>-0.027597</td>\n",
       "      <td>1.642856</td>\n",
       "      <td>-0.809541</td>\n",
       "    </tr>\n",
       "  </tbody>\n",
       "</table>\n",
       "</div>"
      ],
      "text/plain": [
       "        Age    Salary    Height\n",
       "0 -0.524350 -0.715700 -0.446759\n",
       "1 -1.849024 -0.634370  1.790396\n",
       "2  0.965908 -0.675035 -0.507223\n",
       "3  0.303571 -0.772630  0.903596\n",
       "4  1.131492  1.154879 -0.930468\n",
       "5 -0.027597  1.642856 -0.809541"
      ]
     },
     "execution_count": 39,
     "metadata": {},
     "output_type": "execute_result"
    }
   ],
   "source": [
    "#data visualizing after scaling by converting scaled_data in pandas dataframe\n",
    "dataframe_of_scaled_data=pd.DataFrame(scaled_data, columns=df.columns)  #df.columns means assign same names to the columns as given to the df columns\n",
    "dataframe_of_scaled_data"
   ]
  },
  {
   "cell_type": "code",
   "execution_count": null,
   "id": "369f0329-e897-437f-bf7a-d32ecfbbc509",
   "metadata": {},
   "outputs": [],
   "source": []
  }
 ],
 "metadata": {
  "kernelspec": {
   "display_name": "Python 3 (ipykernel)",
   "language": "python",
   "name": "python3"
  },
  "language_info": {
   "codemirror_mode": {
    "name": "ipython",
    "version": 3
   },
   "file_extension": ".py",
   "mimetype": "text/x-python",
   "name": "python",
   "nbconvert_exporter": "python",
   "pygments_lexer": "ipython3",
   "version": "3.12.3"
  }
 },
 "nbformat": 4,
 "nbformat_minor": 5
}
