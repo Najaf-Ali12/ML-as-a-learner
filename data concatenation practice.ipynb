{
 "cells": [
  {
   "cell_type": "code",
   "execution_count": 1,
   "id": "9984ef6b-281f-4e40-a395-e5b96c4d7a34",
   "metadata": {},
   "outputs": [],
   "source": [
    "import pandas as pd"
   ]
  },
  {
   "cell_type": "code",
   "execution_count": 2,
   "id": "ebc5c588-5893-4546-8bf8-b267fdba72ac",
   "metadata": {},
   "outputs": [
    {
     "name": "stdout",
     "output_type": "stream",
     "text": [
      "({'Name': ['Alice', 'Bob', 'Charlie'], 'Age': [20, 21, 22], 'Major': ['Physics', 'Chemistry', 'Mathematics']},)\n",
      "({'Name': ['Alice', 'Bob', 'Charlie'], 'Score': [85, 90, 88]},)\n",
      "{'CourseID': [101, 102, 103], 'CourseName': ['Biology', 'History', 'Computer Science']}\n"
     ]
    }
   ],
   "source": [
    "#writing required datas\n",
    "students_data = {\n",
    "    'Name': ['Alice', 'Bob', 'Charlie'],\n",
    "    'Age': [20, 21, 22],\n",
    "    'Major': ['Physics', 'Chemistry', 'Mathematics']\n",
    "},\n",
    "scores_data = {\n",
    "    'Name': ['Alice', 'Bob', 'Charlie'],\n",
    "    'Score': [85, 90, 88]\n",
    "},\n",
    "courses_data = {\n",
    "    'CourseID': [101, 102, 103],\n",
    "    'CourseName': ['Biology', 'History', 'Computer Science']\n",
    "}\n",
    "print(students_data)\n",
    "print(scores_data)\n",
    "print(courses_data)\n",
    "\n"
   ]
  },
  {
   "cell_type": "code",
   "execution_count": 3,
   "id": "7e04bb6b-97ec-4b7b-9fa3-413551cfd079",
   "metadata": {},
   "outputs": [
    {
     "name": "stdout",
     "output_type": "stream",
     "text": [
      "                    Name           Age                              Major\n",
      "0  [Alice, Bob, Charlie]  [20, 21, 22]  [Physics, Chemistry, Mathematics]\n",
      "                    Name         Score\n",
      "0  [Alice, Bob, Charlie]  [85, 90, 88]\n",
      "   CourseID        CourseName\n",
      "0       101           Biology\n",
      "1       102           History\n",
      "2       103  Computer Science\n"
     ]
    }
   ],
   "source": [
    "#converting given datas in dataframe\n",
    "data1=pd.DataFrame(students_data)\n",
    "data2=pd.DataFrame(scores_data)\n",
    "data3=pd.DataFrame(courses_data)\n",
    "print(data1)\n",
    "print(data2)\n",
    "print(data3)"
   ]
  },
  {
   "cell_type": "code",
   "execution_count": 5,
   "id": "d206a88f-92cc-4953-b0c5-c4964af5f024",
   "metadata": {},
   "outputs": [
    {
     "name": "stdout",
     "output_type": "stream",
     "text": [
      "                    Name           Age                              Major  \\\n",
      "0  [Alice, Bob, Charlie]  [20, 21, 22]  [Physics, Chemistry, Mathematics]   \n",
      "0  [Alice, Bob, Charlie]           NaN                                NaN   \n",
      "\n",
      "          Score  \n",
      "0           NaN  \n",
      "0  [85, 90, 88]  \n"
     ]
    }
   ],
   "source": [
    "concatenate_rowwise=pd.concat([data1,data2])     #it is not completed\n",
    "print(concatenate_rowwise)"
   ]
  },
  {
   "cell_type": "code",
   "execution_count": null,
   "id": "8c77df91-0242-4f6b-89dd-e8a41e8726e7",
   "metadata": {},
   "outputs": [],
   "source": []
  }
 ],
 "metadata": {
  "kernelspec": {
   "display_name": "Python 3 (ipykernel)",
   "language": "python",
   "name": "python3"
  },
  "language_info": {
   "codemirror_mode": {
    "name": "ipython",
    "version": 3
   },
   "file_extension": ".py",
   "mimetype": "text/x-python",
   "name": "python",
   "nbconvert_exporter": "python",
   "pygments_lexer": "ipython3",
   "version": "3.12.3"
  }
 },
 "nbformat": 4,
 "nbformat_minor": 5
}
