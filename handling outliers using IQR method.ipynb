{
 "cells": [
  {
   "cell_type": "code",
   "execution_count": 1,
   "id": "e7bb9d86-ba75-41b7-b706-b5613b8cb399",
   "metadata": {},
   "outputs": [],
   "source": [
    "#importing the required libraries\n",
    "import pandas as pd\n",
    "import numpy as np\n"
   ]
  },
  {
   "cell_type": "code",
   "execution_count": 2,
   "id": "cd3c983e-de6a-4683-ba5e-0e48e8ac06fb",
   "metadata": {},
   "outputs": [
    {
     "data": {
      "text/html": [
       "<div>\n",
       "<style scoped>\n",
       "    .dataframe tbody tr th:only-of-type {\n",
       "        vertical-align: middle;\n",
       "    }\n",
       "\n",
       "    .dataframe tbody tr th {\n",
       "        vertical-align: top;\n",
       "    }\n",
       "\n",
       "    .dataframe thead th {\n",
       "        text-align: right;\n",
       "    }\n",
       "</style>\n",
       "<table border=\"1\" class=\"dataframe\">\n",
       "  <thead>\n",
       "    <tr style=\"text-align: right;\">\n",
       "      <th></th>\n",
       "      <th>age</th>\n",
       "    </tr>\n",
       "  </thead>\n",
       "  <tbody>\n",
       "    <tr>\n",
       "      <th>0</th>\n",
       "      <td>20</td>\n",
       "    </tr>\n",
       "    <tr>\n",
       "      <th>1</th>\n",
       "      <td>21</td>\n",
       "    </tr>\n",
       "    <tr>\n",
       "      <th>2</th>\n",
       "      <td>22</td>\n",
       "    </tr>\n",
       "    <tr>\n",
       "      <th>3</th>\n",
       "      <td>23</td>\n",
       "    </tr>\n",
       "    <tr>\n",
       "      <th>4</th>\n",
       "      <td>24</td>\n",
       "    </tr>\n",
       "    <tr>\n",
       "      <th>5</th>\n",
       "      <td>25</td>\n",
       "    </tr>\n",
       "    <tr>\n",
       "      <th>6</th>\n",
       "      <td>26</td>\n",
       "    </tr>\n",
       "    <tr>\n",
       "      <th>7</th>\n",
       "      <td>27</td>\n",
       "    </tr>\n",
       "    <tr>\n",
       "      <th>8</th>\n",
       "      <td>28</td>\n",
       "    </tr>\n",
       "    <tr>\n",
       "      <th>9</th>\n",
       "      <td>29</td>\n",
       "    </tr>\n",
       "    <tr>\n",
       "      <th>10</th>\n",
       "      <td>30</td>\n",
       "    </tr>\n",
       "    <tr>\n",
       "      <th>11</th>\n",
       "      <td>50</td>\n",
       "    </tr>\n",
       "  </tbody>\n",
       "</table>\n",
       "</div>"
      ],
      "text/plain": [
       "    age\n",
       "0    20\n",
       "1    21\n",
       "2    22\n",
       "3    23\n",
       "4    24\n",
       "5    25\n",
       "6    26\n",
       "7    27\n",
       "8    28\n",
       "9    29\n",
       "10   30\n",
       "11   50"
      ]
     },
     "execution_count": 2,
     "metadata": {},
     "output_type": "execute_result"
    }
   ],
   "source": [
    "#create data\n",
    "data=pd.DataFrame({\"age\":[20, 21, 22, 23, 24, 25, 26, 27, 28, 29, 30, 50]})\n",
    "data"
   ]
  },
  {
   "cell_type": "code",
   "execution_count": 3,
   "id": "57314ac4-72a1-400d-8fa9-8f57a88971e9",
   "metadata": {},
   "outputs": [],
   "source": [
    "#Q1 (First Quartile): This represents the 25th percentile of the data, meaning 25% of the data points lie below this value.\n",
    "\n",
    "#Q3 (Third Quartile): This represents the 75th percentile of the data, meaning 75% of the data points lie below this value.\n",
    "\n"
   ]
  },
  {
   "cell_type": "code",
   "execution_count": 6,
   "id": "27b0f313-6a21-440e-8855-9d613505a92b",
   "metadata": {},
   "outputs": [
    {
     "data": {
      "text/plain": [
       "28.5"
      ]
     },
     "execution_count": 6,
     "metadata": {},
     "output_type": "execute_result"
    }
   ],
   "source": [
    "#Calculate the first and third quartile\n",
    "Q1=np.percentile(data[\"age\"],25,interpolation=\"midpoint\") #all the values less than or equal to Q1  are 25% of data \n",
    "Q3=np.percentile(data[\"age\"],75, interpolation=\"midpoint\") #all the values less than or equal to Q3 are 75% of data"
   ]
  },
  {
   "cell_type": "code",
   "execution_count": 8,
   "id": "d63e577b-59ad-4183-90a1-b832cf6adc2e",
   "metadata": {},
   "outputs": [],
   "source": [
    "#calculate the interquartile range (IQR):\n",
    "#IQR measures the spread of the middle 50% of the data.\n",
    "IQR=Q3-Q1     #IQR means the point which divides data into 50% 50% equal parts"
   ]
  },
  {
   "cell_type": "code",
   "execution_count": 10,
   "id": "c138695b-bc6b-4b33-a882-59d62620bd8e",
   "metadata": {},
   "outputs": [
    {
     "data": {
      "text/plain": [
       "37.5"
      ]
     },
     "execution_count": 10,
     "metadata": {},
     "output_type": "execute_result"
    }
   ],
   "source": [
    "#calculating the upper and lower bound\n",
    "lower_bound=Q1-(1.5*IQR)\n",
    "upper_bound=Q3+(1.5*IQR)"
   ]
  },
  {
   "cell_type": "code",
   "execution_count": 38,
   "id": "a923c0ac-d70f-4be1-81f1-3f6010d0539f",
   "metadata": {},
   "outputs": [],
   "source": [
    "#WHY UPPER AND LOWER BOUNDS\n",
    "#Data points that lie outside these bounds are considered outliers. \n",
    "#it means if any datapoint<lower_bound or >upper_bound is outlier\n",
    "#This method helps to flag unusually high or low values that could distort analysis and modeling."
   ]
  },
  {
   "cell_type": "code",
   "execution_count": 39,
   "id": "30557840-0c07-4274-a6ce-4460be190e8b",
   "metadata": {},
   "outputs": [
    {
     "name": "stdout",
     "output_type": "stream",
     "text": [
      "Here are the outliers based on the IQR threshold:\n",
      "     age\n",
      "11   50\n",
      "----------------------------------------\n"
     ]
    }
   ],
   "source": [
    "# Step 7:Identify and print the outliers\n",
    "print(f\"Here are the outliers based on the IQR threshold:\\n {data[(data['age'] < lower_bound) | (data['age'] > upper_bound)]}\")\n",
    "print(\"----------------------------------------\")  "
   ]
  },
  {
   "cell_type": "code",
   "execution_count": 40,
   "id": "d3f1567e-4614-4d80-b128-ad9a46fbe949",
   "metadata": {},
   "outputs": [],
   "source": [
    "# Step 8: Remove the outliers\n",
    "data = data[(data['age'] >= lower_bound) & (data['age'] <= upper_bound)]\n",
    "#here data is assigned all points except outliers"
   ]
  },
  {
   "cell_type": "code",
   "execution_count": 41,
   "id": "ef8e0f92-b03b-453c-a2a6-cac48cbce130",
   "metadata": {},
   "outputs": [
    {
     "name": "stdout",
     "output_type": "stream",
     "text": [
      "Here is the data without outliers:\n",
      "     age\n",
      "0    20\n",
      "1    21\n",
      "2    22\n",
      "3    23\n",
      "4    24\n",
      "5    25\n",
      "6    26\n",
      "7    27\n",
      "8    28\n",
      "9    29\n",
      "10   30\n"
     ]
    }
   ],
   "source": [
    "#Printing the data without outliers\n",
    "print(f\"Here is the data without outliers:\\n {data}\")"
   ]
  },
  {
   "cell_type": "code",
   "execution_count": null,
   "id": "decbe684-1274-430a-ad4e-720734e3b411",
   "metadata": {},
   "outputs": [],
   "source": []
  }
 ],
 "metadata": {
  "kernelspec": {
   "display_name": "Python 3 (ipykernel)",
   "language": "python",
   "name": "python3"
  },
  "language_info": {
   "codemirror_mode": {
    "name": "ipython",
    "version": 3
   },
   "file_extension": ".py",
   "mimetype": "text/x-python",
   "name": "python",
   "nbconvert_exporter": "python",
   "pygments_lexer": "ipython3",
   "version": "3.12.3"
  }
 },
 "nbformat": 4,
 "nbformat_minor": 5
}
