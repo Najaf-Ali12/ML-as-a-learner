{
 "cells": [
  {
   "cell_type": "code",
   "execution_count": 1,
   "id": "b05558f0-5883-4f0e-a360-26e4446822dc",
   "metadata": {},
   "outputs": [],
   "source": [
    "import pandas as pd"
   ]
  },
  {
   "cell_type": "code",
   "execution_count": 2,
   "id": "a07a8339-fae3-448d-9491-ed7e07f9b3af",
   "metadata": {},
   "outputs": [],
   "source": [
    "#data1\n",
    "products={\n",
    "        \"product_id\": [101,102,103,201,202],\n",
    "        \"product_name\": [\"Laptop\",\"Phone\",\"Tablet\",\"Shirt\",\"Pants\"],\n",
    "        \"price\": [800,500,300,20,30],\n",
    "        \"category\": [\"Electronics\",\"Electronics\",\"Electronics\",\"Clothing\",\"Clothing\"]}"
   ]
  },
  {
   "cell_type": "code",
   "execution_count": 3,
   "id": "0a8a03dd-ca93-471c-b572-e7706e844c90",
   "metadata": {},
   "outputs": [],
   "source": [
    "#data2\n",
    "orders={\n",
    "        \"order_id\": [1001,1002,1003],\n",
    "        \"customer_id\": [\"C001\",\"COO2\",\"C003\"],\n",
    "        \"product_id\": [101,201,102] ,\n",
    "        \"quantity\": [2,3,1], \n",
    "        \"order_date\": [\"2023-11-25\",\"2023-11-26\",\"2023-11-27\"]}"
   ]
  },
  {
   "cell_type": "code",
   "execution_count": 4,
   "id": "d1e40ce1-0c1a-4b0b-9616-839c193f3b72",
   "metadata": {},
   "outputs": [
    {
     "name": "stdout",
     "output_type": "stream",
     "text": [
      "   product_id product_name  price     category\n",
      "0         101       Laptop    800  Electronics\n",
      "1         102        Phone    500  Electronics\n",
      "2         103       Tablet    300  Electronics\n",
      "3         201        Shirt     20     Clothing\n",
      "4         202        Pants     30     Clothing\n",
      "   order_id customer_id  product_id  quantity  order_date\n",
      "0      1001        C001         101         2  2023-11-25\n",
      "1      1002        COO2         201         3  2023-11-26\n",
      "2      1003        C003         102         1  2023-11-27\n"
     ]
    }
   ],
   "source": [
    "#converting data1 and data2 in dataframes\n",
    "df1=pd.DataFrame(products)\n",
    "df2=pd.DataFrame(orders)\n",
    "print(df1)\n",
    "print(df2)"
   ]
  },
  {
   "cell_type": "code",
   "execution_count": 5,
   "id": "91fb67b2-a41f-4505-9a4e-38297c51e814",
   "metadata": {},
   "outputs": [
    {
     "data": {
      "text/html": [
       "<div>\n",
       "<style scoped>\n",
       "    .dataframe tbody tr th:only-of-type {\n",
       "        vertical-align: middle;\n",
       "    }\n",
       "\n",
       "    .dataframe tbody tr th {\n",
       "        vertical-align: top;\n",
       "    }\n",
       "\n",
       "    .dataframe thead th {\n",
       "        text-align: right;\n",
       "    }\n",
       "</style>\n",
       "<table border=\"1\" class=\"dataframe\">\n",
       "  <thead>\n",
       "    <tr style=\"text-align: right;\">\n",
       "      <th></th>\n",
       "      <th>product_id</th>\n",
       "      <th>product_name</th>\n",
       "      <th>price</th>\n",
       "      <th>category</th>\n",
       "      <th>order_id</th>\n",
       "      <th>customer_id</th>\n",
       "      <th>quantity</th>\n",
       "      <th>order_date</th>\n",
       "    </tr>\n",
       "  </thead>\n",
       "  <tbody>\n",
       "    <tr>\n",
       "      <th>0</th>\n",
       "      <td>101</td>\n",
       "      <td>Laptop</td>\n",
       "      <td>800</td>\n",
       "      <td>Electronics</td>\n",
       "      <td>1001.0</td>\n",
       "      <td>C001</td>\n",
       "      <td>2.0</td>\n",
       "      <td>2023-11-25</td>\n",
       "    </tr>\n",
       "    <tr>\n",
       "      <th>1</th>\n",
       "      <td>102</td>\n",
       "      <td>Phone</td>\n",
       "      <td>500</td>\n",
       "      <td>Electronics</td>\n",
       "      <td>1003.0</td>\n",
       "      <td>C003</td>\n",
       "      <td>1.0</td>\n",
       "      <td>2023-11-27</td>\n",
       "    </tr>\n",
       "    <tr>\n",
       "      <th>2</th>\n",
       "      <td>103</td>\n",
       "      <td>Tablet</td>\n",
       "      <td>300</td>\n",
       "      <td>Electronics</td>\n",
       "      <td>NaN</td>\n",
       "      <td>NaN</td>\n",
       "      <td>NaN</td>\n",
       "      <td>NaN</td>\n",
       "    </tr>\n",
       "    <tr>\n",
       "      <th>3</th>\n",
       "      <td>201</td>\n",
       "      <td>Shirt</td>\n",
       "      <td>20</td>\n",
       "      <td>Clothing</td>\n",
       "      <td>1002.0</td>\n",
       "      <td>COO2</td>\n",
       "      <td>3.0</td>\n",
       "      <td>2023-11-26</td>\n",
       "    </tr>\n",
       "    <tr>\n",
       "      <th>4</th>\n",
       "      <td>202</td>\n",
       "      <td>Pants</td>\n",
       "      <td>30</td>\n",
       "      <td>Clothing</td>\n",
       "      <td>NaN</td>\n",
       "      <td>NaN</td>\n",
       "      <td>NaN</td>\n",
       "      <td>NaN</td>\n",
       "    </tr>\n",
       "  </tbody>\n",
       "</table>\n",
       "</div>"
      ],
      "text/plain": [
       "   product_id product_name  price     category  order_id customer_id  \\\n",
       "0         101       Laptop    800  Electronics    1001.0        C001   \n",
       "1         102        Phone    500  Electronics    1003.0        C003   \n",
       "2         103       Tablet    300  Electronics       NaN         NaN   \n",
       "3         201        Shirt     20     Clothing    1002.0        COO2   \n",
       "4         202        Pants     30     Clothing       NaN         NaN   \n",
       "\n",
       "   quantity  order_date  \n",
       "0       2.0  2023-11-25  \n",
       "1       1.0  2023-11-27  \n",
       "2       NaN         NaN  \n",
       "3       3.0  2023-11-26  \n",
       "4       NaN         NaN  "
      ]
     },
     "execution_count": 5,
     "metadata": {},
     "output_type": "execute_result"
    }
   ],
   "source": [
    "#merging both datas\n",
    "merged_data=pd.merge(df1,df2, on=\"product_id\", how=\"left\")  #in on write the name of that column which is common in both datas\n",
    "merged_data"
   ]
  },
  {
   "cell_type": "code",
   "execution_count": null,
   "id": "f100bdcd-8a86-488a-8492-166157afdeb1",
   "metadata": {},
   "outputs": [],
   "source": []
  }
 ],
 "metadata": {
  "kernelspec": {
   "display_name": "Python 3 (ipykernel)",
   "language": "python",
   "name": "python3"
  },
  "language_info": {
   "codemirror_mode": {
    "name": "ipython",
    "version": 3
   },
   "file_extension": ".py",
   "mimetype": "text/x-python",
   "name": "python",
   "nbconvert_exporter": "python",
   "pygments_lexer": "ipython3",
   "version": "3.12.3"
  }
 },
 "nbformat": 4,
 "nbformat_minor": 5
}
