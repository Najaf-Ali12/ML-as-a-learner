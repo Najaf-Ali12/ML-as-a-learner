{
 "cells": [
  {
   "cell_type": "code",
   "execution_count": 4,
   "id": "eae9f648-9417-4b1b-b6cb-b9f5b7a08ccb",
   "metadata": {},
   "outputs": [],
   "source": [
    "import pandas as pd"
   ]
  },
  {
   "cell_type": "code",
   "execution_count": 22,
   "id": "1c94d3d3-892c-4c77-ab96-5dc24d5e1fa5",
   "metadata": {},
   "outputs": [],
   "source": [
    "#creating data whose inconsistencies is to be removed\n",
    "data={\n",
    "    \"date\":['13-01-2024','13/02/2024','03-15-2024','2024-03-18'],\n",
    "    \"father_age\":[66,45,37,49],\n",
    "    \"sons_age\":[78,25,25,52],\n",
    "    \"city\":[\"Dadu\",\"Daud\",\"Nawabshah\",\"Nawabshah\"],\n",
    "    \"country\":[\"USA\",\"United States\",\"U.S.A\",\"America\"]\n",
    "}"
   ]
  },
  {
   "cell_type": "code",
   "execution_count": 24,
   "id": "4ba1ca69-7d07-48cc-b419-fd7e8346df7c",
   "metadata": {},
   "outputs": [
    {
     "data": {
      "text/html": [
       "<div>\n",
       "<style scoped>\n",
       "    .dataframe tbody tr th:only-of-type {\n",
       "        vertical-align: middle;\n",
       "    }\n",
       "\n",
       "    .dataframe tbody tr th {\n",
       "        vertical-align: top;\n",
       "    }\n",
       "\n",
       "    .dataframe thead th {\n",
       "        text-align: right;\n",
       "    }\n",
       "</style>\n",
       "<table border=\"1\" class=\"dataframe\">\n",
       "  <thead>\n",
       "    <tr style=\"text-align: right;\">\n",
       "      <th></th>\n",
       "      <th>date</th>\n",
       "      <th>father_age</th>\n",
       "      <th>sons_age</th>\n",
       "      <th>city</th>\n",
       "      <th>country</th>\n",
       "    </tr>\n",
       "  </thead>\n",
       "  <tbody>\n",
       "    <tr>\n",
       "      <th>0</th>\n",
       "      <td>13-01-2024</td>\n",
       "      <td>66</td>\n",
       "      <td>78</td>\n",
       "      <td>Dadu</td>\n",
       "      <td>USA</td>\n",
       "    </tr>\n",
       "    <tr>\n",
       "      <th>1</th>\n",
       "      <td>13/02/2024</td>\n",
       "      <td>45</td>\n",
       "      <td>25</td>\n",
       "      <td>Daud</td>\n",
       "      <td>United States</td>\n",
       "    </tr>\n",
       "    <tr>\n",
       "      <th>2</th>\n",
       "      <td>03-15-2024</td>\n",
       "      <td>37</td>\n",
       "      <td>25</td>\n",
       "      <td>Nawabshah</td>\n",
       "      <td>U.S.A</td>\n",
       "    </tr>\n",
       "    <tr>\n",
       "      <th>3</th>\n",
       "      <td>2024-03-18</td>\n",
       "      <td>49</td>\n",
       "      <td>52</td>\n",
       "      <td>Nawabshah</td>\n",
       "      <td>America</td>\n",
       "    </tr>\n",
       "  </tbody>\n",
       "</table>\n",
       "</div>"
      ],
      "text/plain": [
       "         date  father_age  sons_age       city        country\n",
       "0  13-01-2024          66        78       Dadu            USA\n",
       "1  13/02/2024          45        25       Daud  United States\n",
       "2  03-15-2024          37        25  Nawabshah          U.S.A\n",
       "3  2024-03-18          49        52  Nawabshah        America"
      ]
     },
     "execution_count": 24,
     "metadata": {},
     "output_type": "execute_result"
    }
   ],
   "source": [
    "#converting the dictionary dataset into dataframe of pandas\n",
    "dataframe=pd.DataFrame(data)\n",
    "dataframe.head()"
   ]
  },
  {
   "cell_type": "code",
   "execution_count": 29,
   "id": "a7c82624-d346-4fcc-81fd-bd0a5452f7a6",
   "metadata": {},
   "outputs": [
    {
     "name": "stderr",
     "output_type": "stream",
     "text": [
      "C:\\Users\\NEW\\AppData\\Local\\Temp\\ipykernel_18316\\1505189398.py:2: UserWarning: Parsing dates in %d-%m-%Y format when dayfirst=False (the default) was specified. Pass `dayfirst=True` or specify a format to silence this warning.\n",
      "  dataframe['date']=pd.to_datetime(dataframe['date'], errors=\"coerce\")\n"
     ]
    },
    {
     "data": {
      "text/html": [
       "<div>\n",
       "<style scoped>\n",
       "    .dataframe tbody tr th:only-of-type {\n",
       "        vertical-align: middle;\n",
       "    }\n",
       "\n",
       "    .dataframe tbody tr th {\n",
       "        vertical-align: top;\n",
       "    }\n",
       "\n",
       "    .dataframe thead th {\n",
       "        text-align: right;\n",
       "    }\n",
       "</style>\n",
       "<table border=\"1\" class=\"dataframe\">\n",
       "  <thead>\n",
       "    <tr style=\"text-align: right;\">\n",
       "      <th></th>\n",
       "      <th>date</th>\n",
       "      <th>father_age</th>\n",
       "      <th>sons_age</th>\n",
       "      <th>city</th>\n",
       "      <th>country</th>\n",
       "    </tr>\n",
       "  </thead>\n",
       "  <tbody>\n",
       "    <tr>\n",
       "      <th>0</th>\n",
       "      <td>24-00-13</td>\n",
       "      <td>66</td>\n",
       "      <td>78</td>\n",
       "      <td>Dadu</td>\n",
       "      <td>USA</td>\n",
       "    </tr>\n",
       "    <tr>\n",
       "      <th>1</th>\n",
       "      <td>19-10-2024</td>\n",
       "      <td>45</td>\n",
       "      <td>25</td>\n",
       "      <td>Dadu</td>\n",
       "      <td>United States</td>\n",
       "    </tr>\n",
       "    <tr>\n",
       "      <th>2</th>\n",
       "      <td>19-10-2024</td>\n",
       "      <td>37</td>\n",
       "      <td>25</td>\n",
       "      <td>Nawabshah</td>\n",
       "      <td>U.S.A</td>\n",
       "    </tr>\n",
       "    <tr>\n",
       "      <th>3</th>\n",
       "      <td>19-10-2024</td>\n",
       "      <td>49</td>\n",
       "      <td>52</td>\n",
       "      <td>Nawabshah</td>\n",
       "      <td>America</td>\n",
       "    </tr>\n",
       "  </tbody>\n",
       "</table>\n",
       "</div>"
      ],
      "text/plain": [
       "         date  father_age  sons_age       city        country\n",
       "0    24-00-13          66        78       Dadu            USA\n",
       "1  19-10-2024          45        25       Dadu  United States\n",
       "2  19-10-2024          37        25  Nawabshah          U.S.A\n",
       "3  19-10-2024          49        52  Nawabshah        America"
      ]
     },
     "execution_count": 29,
     "metadata": {},
     "output_type": "execute_result"
    }
   ],
   "source": [
    "#converting incorrect date formats in correct date formats\n",
    "dataframe['date']=pd.to_datetime(dataframe['date'], errors=\"coerce\")\n",
    "dataframe['date']=dataframe['date'].dt.strftime(\"%y-%M-%d\")\n",
    "dataframe['date']=dataframe['date'].fillna(\"19-10-2024\")\n",
    "dataframe.head()"
   ]
  },
  {
   "cell_type": "code",
   "execution_count": 37,
   "id": "65132e80-1d0d-408b-b533-0c9290c8f3dd",
   "metadata": {},
   "outputs": [
    {
     "data": {
      "text/html": [
       "<div>\n",
       "<style scoped>\n",
       "    .dataframe tbody tr th:only-of-type {\n",
       "        vertical-align: middle;\n",
       "    }\n",
       "\n",
       "    .dataframe tbody tr th {\n",
       "        vertical-align: top;\n",
       "    }\n",
       "\n",
       "    .dataframe thead th {\n",
       "        text-align: right;\n",
       "    }\n",
       "</style>\n",
       "<table border=\"1\" class=\"dataframe\">\n",
       "  <thead>\n",
       "    <tr style=\"text-align: right;\">\n",
       "      <th></th>\n",
       "      <th>date</th>\n",
       "      <th>father_age</th>\n",
       "      <th>sons_age</th>\n",
       "      <th>city</th>\n",
       "      <th>country</th>\n",
       "    </tr>\n",
       "  </thead>\n",
       "  <tbody>\n",
       "    <tr>\n",
       "      <th>0</th>\n",
       "      <td>24-00-13</td>\n",
       "      <td>66</td>\n",
       "      <td>78</td>\n",
       "      <td>Dadu</td>\n",
       "      <td>United States</td>\n",
       "    </tr>\n",
       "    <tr>\n",
       "      <th>2</th>\n",
       "      <td>19-10-2024</td>\n",
       "      <td>37</td>\n",
       "      <td>25</td>\n",
       "      <td>Nawabshah</td>\n",
       "      <td>United States</td>\n",
       "    </tr>\n",
       "  </tbody>\n",
       "</table>\n",
       "</div>"
      ],
      "text/plain": [
       "         date  father_age  sons_age       city        country\n",
       "0    24-00-13          66        78       Dadu  United States\n",
       "2  19-10-2024          37        25  Nawabshah  United States"
      ]
     },
     "execution_count": 37,
     "metadata": {},
     "output_type": "execute_result"
    }
   ],
   "source": [
    "#setting all the values of country column to USA\n",
    "dataframe['country']=dataframe['country'].replace({\"USA\":\"United States\",\"U.S.A\":\"United States\",\"America\":\"United States\"})\n",
    "dataframe.head()"
   ]
  },
  {
   "cell_type": "code",
   "execution_count": 45,
   "id": "8a86bf42-9a46-4dda-a02e-a22837aeb392",
   "metadata": {},
   "outputs": [
    {
     "data": {
      "text/html": [
       "<div>\n",
       "<style scoped>\n",
       "    .dataframe tbody tr th:only-of-type {\n",
       "        vertical-align: middle;\n",
       "    }\n",
       "\n",
       "    .dataframe tbody tr th {\n",
       "        vertical-align: top;\n",
       "    }\n",
       "\n",
       "    .dataframe thead th {\n",
       "        text-align: right;\n",
       "    }\n",
       "</style>\n",
       "<table border=\"1\" class=\"dataframe\">\n",
       "  <thead>\n",
       "    <tr style=\"text-align: right;\">\n",
       "      <th></th>\n",
       "      <th>date</th>\n",
       "      <th>father_age</th>\n",
       "      <th>sons_age</th>\n",
       "      <th>city</th>\n",
       "      <th>country</th>\n",
       "    </tr>\n",
       "  </thead>\n",
       "  <tbody>\n",
       "    <tr>\n",
       "      <th>0</th>\n",
       "      <td>24-00-13</td>\n",
       "      <td>66</td>\n",
       "      <td>78</td>\n",
       "      <td>Dadu</td>\n",
       "      <td>United States</td>\n",
       "    </tr>\n",
       "    <tr>\n",
       "      <th>2</th>\n",
       "      <td>19-10-2024</td>\n",
       "      <td>37</td>\n",
       "      <td>25</td>\n",
       "      <td>Nawabshah</td>\n",
       "      <td>United States</td>\n",
       "    </tr>\n",
       "  </tbody>\n",
       "</table>\n",
       "</div>"
      ],
      "text/plain": [
       "         date  father_age  sons_age       city        country\n",
       "0    24-00-13          66        78       Dadu  United States\n",
       "2  19-10-2024          37        25  Nawabshah  United States"
      ]
     },
     "execution_count": 45,
     "metadata": {},
     "output_type": "execute_result"
    }
   ],
   "source": [
    "#correcting typographical mistakes\n",
    "dataframe[\"city\"]=dataframe[\"city\"].replace({\"Daud\":\"Dadu\"})\n",
    "dataframe.head()"
   ]
  },
  {
   "cell_type": "code",
   "execution_count": 49,
   "id": "1e56836d-befd-426a-bf00-c9e8dbe31ce7",
   "metadata": {},
   "outputs": [
    {
     "data": {
      "text/html": [
       "<div>\n",
       "<style scoped>\n",
       "    .dataframe tbody tr th:only-of-type {\n",
       "        vertical-align: middle;\n",
       "    }\n",
       "\n",
       "    .dataframe tbody tr th {\n",
       "        vertical-align: top;\n",
       "    }\n",
       "\n",
       "    .dataframe thead th {\n",
       "        text-align: right;\n",
       "    }\n",
       "</style>\n",
       "<table border=\"1\" class=\"dataframe\">\n",
       "  <thead>\n",
       "    <tr style=\"text-align: right;\">\n",
       "      <th></th>\n",
       "      <th>date</th>\n",
       "      <th>father_age</th>\n",
       "      <th>sons_age</th>\n",
       "      <th>city</th>\n",
       "      <th>country</th>\n",
       "    </tr>\n",
       "  </thead>\n",
       "  <tbody>\n",
       "    <tr>\n",
       "      <th>2</th>\n",
       "      <td>19-10-2024</td>\n",
       "      <td>37</td>\n",
       "      <td>25</td>\n",
       "      <td>Nawabshah</td>\n",
       "      <td>United States</td>\n",
       "    </tr>\n",
       "  </tbody>\n",
       "</table>\n",
       "</div>"
      ],
      "text/plain": [
       "         date  father_age  sons_age       city        country\n",
       "2  19-10-2024          37        25  Nawabshah  United States"
      ]
     },
     "execution_count": 49,
     "metadata": {},
     "output_type": "execute_result"
    }
   ],
   "source": [
    "#removing those rows in which the father's age is less than son's age\n",
    "dataframe=dataframe.drop(dataframe[dataframe[\"father_age\"]<=dataframe[\"sons_age\"]].index)\n",
    "dataframe.head()"
   ]
  },
  {
   "cell_type": "code",
   "execution_count": 38,
   "id": "0e11364b-8a38-49dd-9073-4b0ab8e55875",
   "metadata": {},
   "outputs": [],
   "source": [
    "#removing duplicates of country column\n",
    "dataframe=dataframe.drop_duplicates(subset=\"city\")\n",
    "dataframe.head()"
   ]
  },
  {
   "cell_type": "code",
   "execution_count": null,
   "id": "75e279e9-2341-4d40-a19e-632e531dc5f3",
   "metadata": {},
   "outputs": [],
   "source": []
  }
 ],
 "metadata": {
  "kernelspec": {
   "display_name": "Python 3 (ipykernel)",
   "language": "python",
   "name": "python3"
  },
  "language_info": {
   "codemirror_mode": {
    "name": "ipython",
    "version": 3
   },
   "file_extension": ".py",
   "mimetype": "text/x-python",
   "name": "python",
   "nbconvert_exporter": "python",
   "pygments_lexer": "ipython3",
   "version": "3.12.3"
  }
 },
 "nbformat": 4,
 "nbformat_minor": 5
}
