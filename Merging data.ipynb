{
 "cells": [
  {
   "cell_type": "code",
   "execution_count": 1,
   "id": "261fdc53-23c2-4915-9096-d0013c8b63b9",
   "metadata": {},
   "outputs": [],
   "source": [
    "#Data Merging: it is the name of merging multiple data collected from data sources but data must be in dataframe"
   ]
  },
  {
   "cell_type": "code",
   "execution_count": 4,
   "id": "7ffc01c8-d736-4d42-a3b3-2e936bca2887",
   "metadata": {},
   "outputs": [],
   "source": [
    "#importing pandas\n",
    "import pandas as pd"
   ]
  },
  {
   "cell_type": "code",
   "execution_count": 21,
   "id": "f5f41973-ed3c-4d69-8d17-ae762006365c",
   "metadata": {},
   "outputs": [
    {
     "name": "stdout",
     "output_type": "stream",
     "text": [
      "{'customer_id': [101, 102, 103], 'customer_name': ['Alice Johnson', 'Bob Smith', 'Charlie Brown'], 'email': ['alice@example.com', 'bob@example.com', 'charlie@example.com']}\n"
     ]
    }
   ],
   "source": [
    "#Step1: defining data1\n",
    "customer_info={\n",
    "            \"customer_id\": [101,102,103],\n",
    "            \"customer_name\": [\"Alice Johnson\",\"Bob Smith\", \"Charlie Brown\"],\n",
    "            \"email\": [\"alice@example.com\",\"bob@example.com\",\"charlie@example.com\"]}\n",
    "print(customer_info)"
   ]
  },
  {
   "cell_type": "code",
   "execution_count": 22,
   "id": "1f2d49e6-a8d1-4880-bffe-dfa29c8f8331",
   "metadata": {},
   "outputs": [
    {
     "data": {
      "text/html": [
       "<div>\n",
       "<style scoped>\n",
       "    .dataframe tbody tr th:only-of-type {\n",
       "        vertical-align: middle;\n",
       "    }\n",
       "\n",
       "    .dataframe tbody tr th {\n",
       "        vertical-align: top;\n",
       "    }\n",
       "\n",
       "    .dataframe thead th {\n",
       "        text-align: right;\n",
       "    }\n",
       "</style>\n",
       "<table border=\"1\" class=\"dataframe\">\n",
       "  <thead>\n",
       "    <tr style=\"text-align: right;\">\n",
       "      <th></th>\n",
       "      <th>customer_id</th>\n",
       "      <th>customer_name</th>\n",
       "      <th>email</th>\n",
       "    </tr>\n",
       "  </thead>\n",
       "  <tbody>\n",
       "    <tr>\n",
       "      <th>0</th>\n",
       "      <td>101</td>\n",
       "      <td>Alice Johnson</td>\n",
       "      <td>alice@example.com</td>\n",
       "    </tr>\n",
       "    <tr>\n",
       "      <th>1</th>\n",
       "      <td>102</td>\n",
       "      <td>Bob Smith</td>\n",
       "      <td>bob@example.com</td>\n",
       "    </tr>\n",
       "    <tr>\n",
       "      <th>2</th>\n",
       "      <td>103</td>\n",
       "      <td>Charlie Brown</td>\n",
       "      <td>charlie@example.com</td>\n",
       "    </tr>\n",
       "  </tbody>\n",
       "</table>\n",
       "</div>"
      ],
      "text/plain": [
       "   customer_id  customer_name                email\n",
       "0          101  Alice Johnson    alice@example.com\n",
       "1          102      Bob Smith      bob@example.com\n",
       "2          103  Charlie Brown  charlie@example.com"
      ]
     },
     "execution_count": 22,
     "metadata": {},
     "output_type": "execute_result"
    }
   ],
   "source": [
    "#converting data1 in datafram\n",
    "data1=pd.DataFrame(customer_info)\n",
    "data1.head()"
   ]
  },
  {
   "cell_type": "code",
   "execution_count": 31,
   "id": "02c41aeb-fbb6-4925-b1df-704b7508cfcc",
   "metadata": {},
   "outputs": [
    {
     "name": "stdout",
     "output_type": "stream",
     "text": [
      "{'customer_id': [101, 102, 101], 'order_id': [201, 202, 203], 'product': ['Laptop', 'Phone', 'Tablet'], 'amount': [800, 500, 300]}\n"
     ]
    }
   ],
   "source": [
    "#defining data2\n",
    "order_info={\n",
    "            \"customer_id\": [101,102,101],\n",
    "            \"order_id\": [201,202,203],\n",
    "            \"product\": [\"Laptop\", \"Phone\",\"Tablet\"],\n",
    "            \"amount\": [800,500,300]}\n",
    "print(order_info)"
   ]
  },
  {
   "cell_type": "code",
   "execution_count": 32,
   "id": "f0ab67ee-370f-4f3b-804b-6e126796350d",
   "metadata": {},
   "outputs": [
    {
     "name": "stdout",
     "output_type": "stream",
     "text": [
      "   customer_id  order_id product  amount\n",
      "0          101       201  Laptop     800\n",
      "1          102       202   Phone     500\n",
      "2          101       203  Tablet     300\n"
     ]
    }
   ],
   "source": [
    "#creating dataframe of data2\n",
    "data2=pd.DataFrame(order_info)\n",
    "print(data2)"
   ]
  },
  {
   "cell_type": "code",
   "execution_count": 33,
   "id": "57c6c5bf-2a1b-494c-b367-8600e8bc6b5b",
   "metadata": {},
   "outputs": [
    {
     "name": "stdout",
     "output_type": "stream",
     "text": [
      "   customer_id  customer_name              email  order_id product  amount\n",
      "0          101  Alice Johnson  alice@example.com       201  Laptop     800\n",
      "1          101  Alice Johnson  alice@example.com       203  Tablet     300\n",
      "2          102      Bob Smith    bob@example.com       202   Phone     500\n"
     ]
    }
   ],
   "source": [
    "#mergining the datas\n",
    "merged_info=pd.merge(data1,data2, on=\"customer_id\", how=\"inner\")  #in \"on\" we assign the common attribute in data sets to be merged\n",
    "print(merged_info)  #it is not showing customer_name=charlie brown b/c its customer_id=103 but in second table no customer_id=103 that's why"
   ]
  },
  {
   "cell_type": "code",
   "execution_count": null,
   "id": "ded437a3-ac8b-494d-8bb4-fa63866381c0",
   "metadata": {},
   "outputs": [],
   "source": []
  }
 ],
 "metadata": {
  "kernelspec": {
   "display_name": "Python 3 (ipykernel)",
   "language": "python",
   "name": "python3"
  },
  "language_info": {
   "codemirror_mode": {
    "name": "ipython",
    "version": 3
   },
   "file_extension": ".py",
   "mimetype": "text/x-python",
   "name": "python",
   "nbconvert_exporter": "python",
   "pygments_lexer": "ipython3",
   "version": "3.12.3"
  }
 },
 "nbformat": 4,
 "nbformat_minor": 5
}
