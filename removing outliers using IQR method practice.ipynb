{
 "cells": [
  {
   "cell_type": "code",
   "execution_count": 1,
   "id": "bbb4779e-7beb-4926-9b0e-8672c514cdc0",
   "metadata": {},
   "outputs": [],
   "source": [
    "#importing required libraries\n",
    "import pandas as pd\n",
    "import numpy as np"
   ]
  },
  {
   "cell_type": "code",
   "execution_count": 3,
   "id": "700ccdf8-3127-4112-bb9d-30561eceeba4",
   "metadata": {},
   "outputs": [
    {
     "name": "stdout",
     "output_type": "stream",
     "text": [
      "   data\n",
      "0    10\n",
      "1    12\n",
      "2    15\n",
      "3    18\n",
      "4    20\n",
      "5    22\n",
      "6    25\n",
      "7    28\n",
      "8    30\n",
      "9  -100\n"
     ]
    }
   ],
   "source": [
    "df=pd.DataFrame({\"data\":[10, 12, 15, 18, 20, 22, 25, 28, 30, -100]})\n",
    "print(df)"
   ]
  },
  {
   "cell_type": "code",
   "execution_count": 4,
   "id": "34a1390f-9c71-4538-ba5e-4353891819d9",
   "metadata": {},
   "outputs": [
    {
     "name": "stdout",
     "output_type": "stream",
     "text": [
      "First quartile contains values less than or equal to  13.5\n",
      "third quartile contains values less than or equal to  23.5\n"
     ]
    }
   ],
   "source": [
    "#calculating limit of 25% and 75% data\n",
    "q1=np.percentile(df[\"data\"],25, interpolation=\"midpoint\")\n",
    "q3=np.percentile(df[\"data\"],75, interpolation=\"midpoint\")\n",
    "print(\"First quartile contains values less than or equal to \",q1)\n",
    "print(\"third quartile contains values less than or equal to \",q3)"
   ]
  },
  {
   "cell_type": "code",
   "execution_count": 5,
   "id": "da00175b-52c9-4d0f-90db-79e780c4e2c9",
   "metadata": {},
   "outputs": [
    {
     "name": "stdout",
     "output_type": "stream",
     "text": [
      "The interquartile range is  10.0\n"
     ]
    }
   ],
   "source": [
    "#calculating interquartile range\n",
    "IQR=q3-q1\n",
    "print(\"The interquartile range is \",IQR)"
   ]
  },
  {
   "cell_type": "code",
   "execution_count": 7,
   "id": "b065edff-c6e7-4663-811d-83061f7f5e50",
   "metadata": {},
   "outputs": [
    {
     "name": "stdout",
     "output_type": "stream",
     "text": [
      "The lowest bound for data is -1.5 and the upper bound for data is 38.5 to prove it as unoutlier\n"
     ]
    }
   ],
   "source": [
    "#calculating upper and lower bound of data\n",
    "upper_bound=q3+(1.5*IQR)\n",
    "lower_bound=q1-(1.5*IQR)\n",
    "print(\"The lower bound is \",lower_bound)\n",
    "print(\"The upper bound is \",upper_bound)\n",
    "#if any values lies inside these boundaries is not outlier if it lies outside of these boundaries it is outlier"
   ]
  },
  {
   "cell_type": "code",
   "execution_count": 12,
   "id": "b749fd07-6a48-4119-b2c1-74499ee35709",
   "metadata": {},
   "outputs": [
    {
     "name": "stdout",
     "output_type": "stream",
     "text": [
      "   data\n",
      "9  -100\n"
     ]
    }
   ],
   "source": [
    "#identifying outliers\n",
    "outliers=df[(df[\"data\"]<lower_bound) | (df[\"data\"]>upper_bound)]\n",
    "print(\"Outliers are given below\")\n",
    "print(outliers)"
   ]
  },
  {
   "cell_type": "code",
   "execution_count": 13,
   "id": "732dafb7-1c2a-41d5-9616-0b94f95000b2",
   "metadata": {},
   "outputs": [
    {
     "name": "stdout",
     "output_type": "stream",
     "text": [
      "data without outliers is given below\n",
      "   data\n",
      "0    10\n",
      "1    12\n",
      "2    15\n",
      "3    18\n",
      "4    20\n",
      "5    22\n",
      "6    25\n",
      "7    28\n",
      "8    30\n"
     ]
    }
   ],
   "source": [
    "#removing outliers\n",
    "df=df[(df[\"data\"]>=lower_bound) & (df[\"data\"]<=upper_bound)]\n",
    "print(\"data without outliers is given below\")\n",
    "print(df)"
   ]
  },
  {
   "cell_type": "code",
   "execution_count": null,
   "id": "dc8aa0d5-aae3-4633-9461-21a2562c1c52",
   "metadata": {},
   "outputs": [],
   "source": []
  }
 ],
 "metadata": {
  "kernelspec": {
   "display_name": "Python 3 (ipykernel)",
   "language": "python",
   "name": "python3"
  },
  "language_info": {
   "codemirror_mode": {
    "name": "ipython",
    "version": 3
   },
   "file_extension": ".py",
   "mimetype": "text/x-python",
   "name": "python",
   "nbconvert_exporter": "python",
   "pygments_lexer": "ipython3",
   "version": "3.12.3"
  }
 },
 "nbformat": 4,
 "nbformat_minor": 5
}
