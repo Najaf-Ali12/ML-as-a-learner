{
 "cells": [
  {
   "cell_type": "markdown",
   "id": "314dd5da-5a26-4a43-87cf-7656a30a5238",
   "metadata": {},
   "source": [
    "MinMax Scaler: : It scales data from 0 to 1"
   ]
  },
  {
   "cell_type": "markdown",
   "id": "8ea8a769-bdcb-4da9-b898-e2a90fb41b59",
   "metadata": {},
   "source": [
    "Warning\n",
    "Risk of data leak Do not use minmax_scale unless you know what you are doing. \n",
    "A common mistake is to apply it to the entire data before splitting into training and test sets. \n",
    "This will bias the model evaluation because information would have leaked from the test set to the training set. \n",
    "In general, we recommend using MinMaxScaler within a Pipeline in order to prevent most risks of data leaking:\n",
    "pipe = make_pipeline(MinMaxScaler(), LogisticRegression())."
   ]
  },
  {
   "cell_type": "code",
   "execution_count": null,
   "id": "52916606-e4f0-417f-b7bc-076c4331738e",
   "metadata": {},
   "outputs": [],
   "source": [
    "#The formula of minmaxScaler is: eachvalue={(eachvalue-minimum_valueof_column)/(max_valueof_column-minimum_valueof_column)}"
   ]
  },
  {
   "cell_type": "code",
   "execution_count": 12,
   "id": "5b0fb83c-363c-4fc0-9edf-88a6dbc4b240",
   "metadata": {},
   "outputs": [],
   "source": [
    "#importing necessary libraries\n",
    "import pandas as pd\n",
    "from sklearn.preprocessing import MinMaxScaler"
   ]
  },
  {
   "cell_type": "markdown",
   "id": "2cbc1d44-ff4d-498d-bf0f-dcbf96ed355c",
   "metadata": {},
   "source": [
    "#creating a sample data\n",
    "data={\n",
    "    \"Age\":[10,2,19,15,20,13],\n",
    "    \"Salary\":[10000,20000,15000,3000,240000,300000],\n",
    "    \"Height\":[123,234,120,190,99,105]}"
   ]
  },
  {
   "cell_type": "code",
   "execution_count": 14,
   "id": "d057d88d-6635-4c26-8c2f-208c7e7269ba",
   "metadata": {},
   "outputs": [
    {
     "name": "stdout",
     "output_type": "stream",
     "text": [
      "   Age  Salary  Height\n",
      "0   10   10000     123\n",
      "1    2   20000     234\n",
      "2   19   15000     120\n",
      "3   15    3000     190\n",
      "4   20  240000      99\n",
      "5   13  300000     105\n"
     ]
    }
   ],
   "source": [
    "#converting data in pandas DataFrame\n",
    "df=pd.DataFrame(data)\n",
    "print(df)"
   ]
  },
  {
   "cell_type": "code",
   "execution_count": 15,
   "id": "8736d99e-7b77-4a37-a5c2-32bfbdf71121",
   "metadata": {},
   "outputs": [
    {
     "data": {
      "text/plain": [
       "array([[0.44444444, 0.02356902, 0.17777778],\n",
       "       [0.        , 0.05723906, 1.        ],\n",
       "       [0.94444444, 0.04040404, 0.15555556],\n",
       "       [0.72222222, 0.        , 0.67407407],\n",
       "       [1.        , 0.7979798 , 0.        ],\n",
       "       [0.61111111, 1.        , 0.04444444]])"
      ]
     },
     "execution_count": 15,
     "metadata": {},
     "output_type": "execute_result"
    }
   ],
   "source": [
    "#scaling process\n",
    "scaler=MinMaxScaler()\n",
    "scaled_data=scaler.fit_transform(df)\n",
    "scaled_data"
   ]
  },
  {
   "cell_type": "code",
   "execution_count": 16,
   "id": "b4b4eaa4-1392-4827-9ab1-53fc11bae5fd",
   "metadata": {},
   "outputs": [
    {
     "data": {
      "text/html": [
       "<div>\n",
       "<style scoped>\n",
       "    .dataframe tbody tr th:only-of-type {\n",
       "        vertical-align: middle;\n",
       "    }\n",
       "\n",
       "    .dataframe tbody tr th {\n",
       "        vertical-align: top;\n",
       "    }\n",
       "\n",
       "    .dataframe thead th {\n",
       "        text-align: right;\n",
       "    }\n",
       "</style>\n",
       "<table border=\"1\" class=\"dataframe\">\n",
       "  <thead>\n",
       "    <tr style=\"text-align: right;\">\n",
       "      <th></th>\n",
       "      <th>Age</th>\n",
       "      <th>Salary</th>\n",
       "      <th>Height</th>\n",
       "    </tr>\n",
       "  </thead>\n",
       "  <tbody>\n",
       "    <tr>\n",
       "      <th>0</th>\n",
       "      <td>0.444444</td>\n",
       "      <td>0.023569</td>\n",
       "      <td>0.177778</td>\n",
       "    </tr>\n",
       "    <tr>\n",
       "      <th>1</th>\n",
       "      <td>0.000000</td>\n",
       "      <td>0.057239</td>\n",
       "      <td>1.000000</td>\n",
       "    </tr>\n",
       "    <tr>\n",
       "      <th>2</th>\n",
       "      <td>0.944444</td>\n",
       "      <td>0.040404</td>\n",
       "      <td>0.155556</td>\n",
       "    </tr>\n",
       "    <tr>\n",
       "      <th>3</th>\n",
       "      <td>0.722222</td>\n",
       "      <td>0.000000</td>\n",
       "      <td>0.674074</td>\n",
       "    </tr>\n",
       "    <tr>\n",
       "      <th>4</th>\n",
       "      <td>1.000000</td>\n",
       "      <td>0.797980</td>\n",
       "      <td>0.000000</td>\n",
       "    </tr>\n",
       "    <tr>\n",
       "      <th>5</th>\n",
       "      <td>0.611111</td>\n",
       "      <td>1.000000</td>\n",
       "      <td>0.044444</td>\n",
       "    </tr>\n",
       "  </tbody>\n",
       "</table>\n",
       "</div>"
      ],
      "text/plain": [
       "        Age    Salary    Height\n",
       "0  0.444444  0.023569  0.177778\n",
       "1  0.000000  0.057239  1.000000\n",
       "2  0.944444  0.040404  0.155556\n",
       "3  0.722222  0.000000  0.674074\n",
       "4  1.000000  0.797980  0.000000\n",
       "5  0.611111  1.000000  0.044444"
      ]
     },
     "execution_count": 16,
     "metadata": {},
     "output_type": "execute_result"
    }
   ],
   "source": [
    "#data visualizing after scaling by converting scaled_data in pandas dataframe\n",
    "dataframe_of_scaled_data=pd.DataFrame(scaled_data, columns=df.columns)  #df.columns means assign same names to the columns as given to the df columns\n",
    "dataframe_of_scaled_data"
   ]
  },
  {
   "cell_type": "code",
   "execution_count": null,
   "id": "b04fc997-1859-4085-9656-2184f872788d",
   "metadata": {},
   "outputs": [],
   "source": []
  },
  {
   "cell_type": "code",
   "execution_count": null,
   "id": "f23eabae-5764-4d51-b560-b225f7426e9f",
   "metadata": {},
   "outputs": [],
   "source": []
  }
 ],
 "metadata": {
  "kernelspec": {
   "display_name": "Python 3 (ipykernel)",
   "language": "python",
   "name": "python3"
  },
  "language_info": {
   "codemirror_mode": {
    "name": "ipython",
    "version": 3
   },
   "file_extension": ".py",
   "mimetype": "text/x-python",
   "name": "python",
   "nbconvert_exporter": "python",
   "pygments_lexer": "ipython3",
   "version": "3.12.3"
  }
 },
 "nbformat": 4,
 "nbformat_minor": 5
}
