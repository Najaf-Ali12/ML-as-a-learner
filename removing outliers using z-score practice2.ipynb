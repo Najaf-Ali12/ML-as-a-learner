{
 "cells": [
  {
   "cell_type": "code",
   "execution_count": 2,
   "id": "40e748fb-9b12-4936-ab5c-c44cbeb16c78",
   "metadata": {},
   "outputs": [],
   "source": [
    "#importing pandas\n",
    "import pandas as pd"
   ]
  },
  {
   "cell_type": "code",
   "execution_count": 4,
   "id": "99756e23-26f9-47cf-bf82-ae4247067e44",
   "metadata": {},
   "outputs": [
    {
     "data": {
      "text/html": [
       "<div>\n",
       "<style scoped>\n",
       "    .dataframe tbody tr th:only-of-type {\n",
       "        vertical-align: middle;\n",
       "    }\n",
       "\n",
       "    .dataframe tbody tr th {\n",
       "        vertical-align: top;\n",
       "    }\n",
       "\n",
       "    .dataframe thead th {\n",
       "        text-align: right;\n",
       "    }\n",
       "</style>\n",
       "<table border=\"1\" class=\"dataframe\">\n",
       "  <thead>\n",
       "    <tr style=\"text-align: right;\">\n",
       "      <th></th>\n",
       "      <th>column_name</th>\n",
       "    </tr>\n",
       "  </thead>\n",
       "  <tbody>\n",
       "    <tr>\n",
       "      <th>0</th>\n",
       "      <td>10</td>\n",
       "    </tr>\n",
       "    <tr>\n",
       "      <th>1</th>\n",
       "      <td>12</td>\n",
       "    </tr>\n",
       "    <tr>\n",
       "      <th>2</th>\n",
       "      <td>15</td>\n",
       "    </tr>\n",
       "    <tr>\n",
       "      <th>3</th>\n",
       "      <td>18</td>\n",
       "    </tr>\n",
       "    <tr>\n",
       "      <th>4</th>\n",
       "      <td>20</td>\n",
       "    </tr>\n",
       "    <tr>\n",
       "      <th>5</th>\n",
       "      <td>22</td>\n",
       "    </tr>\n",
       "    <tr>\n",
       "      <th>6</th>\n",
       "      <td>25</td>\n",
       "    </tr>\n",
       "    <tr>\n",
       "      <th>7</th>\n",
       "      <td>28</td>\n",
       "    </tr>\n",
       "    <tr>\n",
       "      <th>8</th>\n",
       "      <td>30</td>\n",
       "    </tr>\n",
       "    <tr>\n",
       "      <th>9</th>\n",
       "      <td>500</td>\n",
       "    </tr>\n",
       "    <tr>\n",
       "      <th>10</th>\n",
       "      <td>600</td>\n",
       "    </tr>\n",
       "    <tr>\n",
       "      <th>11</th>\n",
       "      <td>700</td>\n",
       "    </tr>\n",
       "  </tbody>\n",
       "</table>\n",
       "</div>"
      ],
      "text/plain": [
       "    column_name\n",
       "0            10\n",
       "1            12\n",
       "2            15\n",
       "3            18\n",
       "4            20\n",
       "5            22\n",
       "6            25\n",
       "7            28\n",
       "8            30\n",
       "9           500\n",
       "10          600\n",
       "11          700"
      ]
     },
     "execution_count": 4,
     "metadata": {},
     "output_type": "execute_result"
    }
   ],
   "source": [
    "#creating dataframe of data\n",
    "data=pd.DataFrame({\"column_name\":[10, 12, 15, 18, 20, 22, 25, 28, 30, 500, 600, 700]})\n",
    "data"
   ]
  },
  {
   "cell_type": "code",
   "execution_count": 6,
   "id": "c7a75db6-b003-40df-940d-bdf391337d99",
   "metadata": {},
   "outputs": [
    {
     "name": "stdout",
     "output_type": "stream",
     "text": [
      "mean of the data is165.0\n",
      "Standard deviation of given data is 265.8239335281224\n"
     ]
    }
   ],
   "source": [
    "#calculating mean and standard deviation to calculate the z-score\n",
    "mean=data[\"column_name\"].mean()\n",
    "std=data[\"column_name\"].std()\n",
    "print(f\"mean of the data is {mean}\")\n",
    "print(f\"Standard deviation of given data is {std}\")"
   ]
  },
  {
   "cell_type": "code",
   "execution_count": 8,
   "id": "4fffdeaf-f5b6-4f7b-8bc6-5a4ac2b4c41a",
   "metadata": {},
   "outputs": [
    {
     "name": "stdout",
     "output_type": "stream",
     "text": [
      "0    -0.583093\n",
      "1    -0.575569\n",
      "2    -0.564283\n",
      "3    -0.552998\n",
      "4    -0.545474\n",
      "5    -0.537950\n",
      "6    -0.526664\n",
      "7    -0.515379\n",
      "8    -0.507855\n",
      "9     1.260233\n",
      "10    1.636421\n",
      "11    2.012610\n",
      "Name: z-score, dtype: float64\n"
     ]
    }
   ],
   "source": [
    "#calculating z-score of all points of column and storing them in z-score column\n",
    "data[\"z-score\"]=(data[\"column_name\"]-mean)/std\n",
    "print(data[\"z-score\"])"
   ]
  },
  {
   "cell_type": "code",
   "execution_count": 10,
   "id": "7db5b838-0dd4-4879-aa02-eb94dee14171",
   "metadata": {},
   "outputs": [
    {
     "name": "stdout",
     "output_type": "stream",
     "text": [
      "The outliers in given table are the following\n",
      "    column_name   z-score\n",
      "9           500  1.260233\n",
      "10          600  1.636421\n",
      "11          700  2.012610\n"
     ]
    }
   ],
   "source": [
    "#we keep threshold >=0 it means that datapoints whose z-score is >=0 are outliers\n",
    "outliers=data[data[\"z-score\"]>=0]\n",
    "print(\"The outliers in given table are given below\")\n",
    "print(outliers)"
   ]
  },
  {
   "cell_type": "code",
   "execution_count": 11,
   "id": "1152048f-d55c-4556-98c5-492846ceb9ad",
   "metadata": {},
   "outputs": [
    {
     "name": "stdout",
     "output_type": "stream",
     "text": [
      "The data without outliers is given below\n",
      "   column_name   z-score\n",
      "0           10 -0.583093\n",
      "1           12 -0.575569\n",
      "2           15 -0.564283\n",
      "3           18 -0.552998\n",
      "4           20 -0.545474\n",
      "5           22 -0.537950\n",
      "6           25 -0.526664\n",
      "7           28 -0.515379\n",
      "8           30 -0.507855\n"
     ]
    }
   ],
   "source": [
    "print(\"The data without outliers is given below\")\n",
    "data_without_outliers=data[data[\"z-score\"]<0]\n",
    "print(data_without_outliers)"
   ]
  }
 ],
 "metadata": {
  "kernelspec": {
   "display_name": "Python 3 (ipykernel)",
   "language": "python",
   "name": "python3"
  },
  "language_info": {
   "codemirror_mode": {
    "name": "ipython",
    "version": 3
   },
   "file_extension": ".py",
   "mimetype": "text/x-python",
   "name": "python",
   "nbconvert_exporter": "python",
   "pygments_lexer": "ipython3",
   "version": "3.12.3"
  }
 },
 "nbformat": 4,
 "nbformat_minor": 5
}
