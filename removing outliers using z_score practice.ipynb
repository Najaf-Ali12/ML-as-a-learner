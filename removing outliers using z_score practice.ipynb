{
 "cells": [
  {
   "cell_type": "code",
   "execution_count": 2,
   "id": "627b58e4-ac8b-4d06-9ecb-827cc8767ade",
   "metadata": {},
   "outputs": [],
   "source": [
    "import pandas as pd\n",
    "import numpy as np"
   ]
  },
  {
   "cell_type": "code",
   "execution_count": 3,
   "id": "b184f3b2-8842-4645-9981-c257984e61d4",
   "metadata": {},
   "outputs": [
    {
     "data": {
      "text/html": [
       "<div>\n",
       "<style scoped>\n",
       "    .dataframe tbody tr th:only-of-type {\n",
       "        vertical-align: middle;\n",
       "    }\n",
       "\n",
       "    .dataframe tbody tr th {\n",
       "        vertical-align: top;\n",
       "    }\n",
       "\n",
       "    .dataframe thead th {\n",
       "        text-align: right;\n",
       "    }\n",
       "</style>\n",
       "<table border=\"1\" class=\"dataframe\">\n",
       "  <thead>\n",
       "    <tr style=\"text-align: right;\">\n",
       "      <th></th>\n",
       "      <th>marks</th>\n",
       "    </tr>\n",
       "  </thead>\n",
       "  <tbody>\n",
       "    <tr>\n",
       "      <th>0</th>\n",
       "      <td>100</td>\n",
       "    </tr>\n",
       "    <tr>\n",
       "      <th>1</th>\n",
       "      <td>300</td>\n",
       "    </tr>\n",
       "    <tr>\n",
       "      <th>2</th>\n",
       "      <td>200</td>\n",
       "    </tr>\n",
       "    <tr>\n",
       "      <th>3</th>\n",
       "      <td>150</td>\n",
       "    </tr>\n",
       "    <tr>\n",
       "      <th>4</th>\n",
       "      <td>500</td>\n",
       "    </tr>\n",
       "    <tr>\n",
       "      <th>5</th>\n",
       "      <td>20000</td>\n",
       "    </tr>\n",
       "  </tbody>\n",
       "</table>\n",
       "</div>"
      ],
      "text/plain": [
       "   marks\n",
       "0    100\n",
       "1    300\n",
       "2    200\n",
       "3    150\n",
       "4    500\n",
       "5  20000"
      ]
     },
     "execution_count": 3,
     "metadata": {},
     "output_type": "execute_result"
    }
   ],
   "source": [
    "#creating the dataframe\n",
    "data=pd.DataFrame({\"marks\":[100,300,200,150,500,20000]})\n",
    "data"
   ]
  },
  {
   "cell_type": "code",
   "execution_count": 4,
   "id": "3ecab8bf-0855-4702-b919-19b95bcf3a31",
   "metadata": {},
   "outputs": [
    {
     "data": {
      "text/plain": [
       "7361.5225251906195"
      ]
     },
     "execution_count": 4,
     "metadata": {},
     "output_type": "execute_result"
    }
   ],
   "source": [
    "#calculating the mean and std using numpy\n",
    "mean=np.mean(data[\"marks\"])\n",
    "std=np.std(data[\"marks\"])\n",
    "std"
   ]
  },
  {
   "cell_type": "code",
   "execution_count": 5,
   "id": "c86d5ef3-6ec3-4189-9f53-34941d920216",
   "metadata": {},
   "outputs": [
    {
     "data": {
      "text/plain": [
       "0   -0.467521\n",
       "1   -0.440353\n",
       "2   -0.453937\n",
       "3   -0.460729\n",
       "4   -0.413184\n",
       "5    2.235724\n",
       "Name: z_score, dtype: float64"
      ]
     },
     "execution_count": 5,
     "metadata": {},
     "output_type": "execute_result"
    }
   ],
   "source": [
    "#calculating z-score\n",
    "data[\"z_score\"]=(data[\"marks\"]-mean)/std\n",
    "data[\"z_score\"]"
   ]
  },
  {
   "cell_type": "code",
   "execution_count": 6,
   "id": "adff0b2e-be97-42a8-8df7-2c4cb86c0ae4",
   "metadata": {},
   "outputs": [
    {
     "name": "stdout",
     "output_type": "stream",
     "text": [
      "   marks   z_score\n",
      "5  20000  2.235724\n"
     ]
    }
   ],
   "source": [
    "#finding the z_score of outlier while the threshold is kept 2\n",
    "print(data[data[\"z_score\"]>2])"
   ]
  },
  {
   "cell_type": "code",
   "execution_count": 7,
   "id": "0ee79d85-7320-412a-8c22-aa43b8de3c52",
   "metadata": {},
   "outputs": [
    {
     "name": "stdout",
     "output_type": "stream",
     "text": [
      "   marks   z_score\n",
      "0    100 -0.467521\n",
      "1    300 -0.440353\n",
      "2    200 -0.453937\n",
      "3    150 -0.460729\n",
      "4    500 -0.413184\n"
     ]
    }
   ],
   "source": [
    "#printing the data without outlier \n",
    "print(data[data[\"z_score\"]<=2])\n"
   ]
  },
  {
   "cell_type": "code",
   "execution_count": 8,
   "id": "fad124d2-976b-43be-821d-c7d8d54a8851",
   "metadata": {},
   "outputs": [
    {
     "name": "stdout",
     "output_type": "stream",
     "text": [
      "   marks   z_score\n",
      "0    100 -0.467521\n",
      "1    300 -0.440353\n",
      "2    200 -0.453937\n",
      "3    150 -0.460729\n",
      "4    500 -0.413184\n",
      "5  20000  2.235724\n"
     ]
    }
   ],
   "source": [
    "#but we have not removed outlier yet prove by printing data\n",
    "print(data)"
   ]
  },
  {
   "cell_type": "code",
   "execution_count": 9,
   "id": "96f21a93-3244-4d6c-8c30-62467820a595",
   "metadata": {},
   "outputs": [
    {
     "name": "stdout",
     "output_type": "stream",
     "text": [
      "   marks   z_score\n",
      "0    100 -0.467521\n",
      "1    300 -0.440353\n",
      "2    200 -0.453937\n",
      "3    150 -0.460729\n",
      "4    500 -0.413184\n"
     ]
    }
   ],
   "source": [
    "#to remove outliers we will reassign values to data but only those which are not outliers or we can assign outlier free data to another variable\n",
    "data=data[data[\"z_score\"]<=2]\n",
    "print(data) #here it will print without outlier values"
   ]
  },
  {
   "cell_type": "code",
   "execution_count": null,
   "id": "1169c6dd-ce0d-492c-85e0-d73d1fa6a5c0",
   "metadata": {},
   "outputs": [],
   "source": []
  }
 ],
 "metadata": {
  "kernelspec": {
   "display_name": "Python 3 (ipykernel)",
   "language": "python",
   "name": "python3"
  },
  "language_info": {
   "codemirror_mode": {
    "name": "ipython",
    "version": 3
   },
   "file_extension": ".py",
   "mimetype": "text/x-python",
   "name": "python",
   "nbconvert_exporter": "python",
   "pygments_lexer": "ipython3",
   "version": "3.12.3"
  }
 },
 "nbformat": 4,
 "nbformat_minor": 5
}
