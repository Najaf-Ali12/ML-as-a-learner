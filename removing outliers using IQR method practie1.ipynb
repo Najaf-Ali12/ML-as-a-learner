{
 "cells": [
  {
   "cell_type": "code",
   "execution_count": 8,
   "id": "4cb16907-2e0d-4e3d-a09b-472ce4362c5f",
   "metadata": {},
   "outputs": [],
   "source": [
    "#Step1:importing libraries\n",
    "import numpy as np\n",
    "import pandas as pd"
   ]
  },
  {
   "cell_type": "code",
   "execution_count": 9,
   "id": "679b45e9-0746-498e-976f-bd7fa2f7fd0b",
   "metadata": {},
   "outputs": [
    {
     "name": "stdout",
     "output_type": "stream",
     "text": [
      "   data\n",
      "0    10\n",
      "1    12\n",
      "2    15\n",
      "3    18\n",
      "4    20\n",
      "5    22\n",
      "6    25\n",
      "7    28\n",
      "8    30\n",
      "9   100\n"
     ]
    }
   ],
   "source": [
    "#Step2:CREATING DATAFRAME\n",
    "values=pd.DataFrame({\"data\":[10, 12, 15, 18, 20, 22, 25, 28, 30, 100]})\n",
    "print(values)"
   ]
  },
  {
   "cell_type": "code",
   "execution_count": 10,
   "id": "bca5a30f-b9b5-4b74-80a6-b92c2eeea674",
   "metadata": {},
   "outputs": [
    {
     "name": "stdout",
     "output_type": "stream",
     "text": [
      "Quartile1 is  16.5\n",
      "Quartile3 is  26.5\n"
     ]
    }
   ],
   "source": [
    "#STEP3:FINDING QUARTILE1 AND QUARTILE3\n",
    "q1=np.percentile(values[\"data\"],25, interpolation=\"midpoint\")\n",
    "q3=np.percentile(values[\"data\"],75, interpolation=\"midpoint\")\n",
    "print(\"Quartile1 is \",q1)\n",
    "print(\"Quartile3 is \",q3)"
   ]
  },
  {
   "cell_type": "code",
   "execution_count": 11,
   "id": "a02ac3d7-3cbd-4195-a66a-24e196f0bfc1",
   "metadata": {},
   "outputs": [
    {
     "name": "stdout",
     "output_type": "stream",
     "text": [
      "IQR is  10.0\n"
     ]
    }
   ],
   "source": [
    "#STEP4:calculating interquartile range(iqr)\n",
    "iqr=q3-q1\n",
    "print(\"IQR is \",iqr)"
   ]
  },
  {
   "cell_type": "code",
   "execution_count": 12,
   "id": "f66119c7-8faa-4ac2-a2fe-fe24f5825665",
   "metadata": {},
   "outputs": [
    {
     "name": "stdout",
     "output_type": "stream",
     "text": [
      "The lower boundary is  1.5\n",
      "The upper boundary is  41.5\n"
     ]
    }
   ],
   "source": [
    "#Step5: defining upper and lower boundaries\n",
    "lower_bound=q1-(1.5*iqr)\n",
    "upper_bound=q3+(1.5*iqr)\n",
    "print(\"The lower boundary is \",lower_bound)\n",
    "print(\"The upper boundary is \",upper_bound)"
   ]
  },
  {
   "cell_type": "code",
   "execution_count": 14,
   "id": "03486c15-f6c3-417d-8bb6-b4a44938916b",
   "metadata": {},
   "outputs": [
    {
     "name": "stdout",
     "output_type": "stream",
     "text": [
      "The outliers in the data are given below\n",
      "   data\n",
      "9   100\n"
     ]
    }
   ],
   "source": [
    "#Step6:Pointing outliers which are out of the defined boundaries others are common values\n",
    "outliers=values[(values[\"data\"]<lower_bound) | (values[\"data\"]>upper_bound)]\n",
    "print(\"The outliers in the data are given below\")\n",
    "print(outliers)"
   ]
  },
  {
   "cell_type": "code",
   "execution_count": 16,
   "id": "4b7aaffd-0f0c-4ad2-b3b4-0a4129d26972",
   "metadata": {},
   "outputs": [],
   "source": [
    "#step7:removing outliers \n",
    "values=values[(values[\"data\"]>=lower_bound) & (values[\"data\"]<=upper_bound)]\n"
   ]
  },
  {
   "cell_type": "code",
   "execution_count": 17,
   "id": "3b9cedcd-8e38-494e-afe5-705ac6b26be7",
   "metadata": {},
   "outputs": [
    {
     "name": "stdout",
     "output_type": "stream",
     "text": [
      "Data free of outliers is given below\n",
      "   data\n",
      "0    10\n",
      "1    12\n",
      "2    15\n",
      "3    18\n",
      "4    20\n",
      "5    22\n",
      "6    25\n",
      "7    28\n",
      "8    30\n"
     ]
    }
   ],
   "source": [
    "#step8: printing cleaned data without outliers\n",
    "print(\"Data free of outliers is given below\")\n",
    "print(values)"
   ]
  },
  {
   "cell_type": "code",
   "execution_count": null,
   "id": "1704c3d7-3d4b-4238-9380-541d4cf4677c",
   "metadata": {},
   "outputs": [],
   "source": []
  }
 ],
 "metadata": {
  "kernelspec": {
   "display_name": "Python 3 (ipykernel)",
   "language": "python",
   "name": "python3"
  },
  "language_info": {
   "codemirror_mode": {
    "name": "ipython",
    "version": 3
   },
   "file_extension": ".py",
   "mimetype": "text/x-python",
   "name": "python",
   "nbconvert_exporter": "python",
   "pygments_lexer": "ipython3",
   "version": "3.12.3"
  }
 },
 "nbformat": 4,
 "nbformat_minor": 5
}
