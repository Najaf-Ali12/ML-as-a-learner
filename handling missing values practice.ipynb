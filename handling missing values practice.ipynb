{
 "cells": [
  {
   "cell_type": "code",
   "execution_count": 20,
   "id": "3a4b6aa8-5c68-46a1-86bd-5928288aecdc",
   "metadata": {},
   "outputs": [],
   "source": [
    "#importing required libraries\n",
    "#import pandas as pd\n",
    "import matplotlib.pyplot as plt \n",
    "import seaborn as sns\n"
   ]
  },
  {
   "cell_type": "code",
   "execution_count": 25,
   "id": "6b10348b-0864-41e8-90e4-08137b3f73aa",
   "metadata": {},
   "outputs": [
    {
     "data": {
      "text/html": [
       "<div>\n",
       "<style scoped>\n",
       "    .dataframe tbody tr th:only-of-type {\n",
       "        vertical-align: middle;\n",
       "    }\n",
       "\n",
       "    .dataframe tbody tr th {\n",
       "        vertical-align: top;\n",
       "    }\n",
       "\n",
       "    .dataframe thead th {\n",
       "        text-align: right;\n",
       "    }\n",
       "</style>\n",
       "<table border=\"1\" class=\"dataframe\">\n",
       "  <thead>\n",
       "    <tr style=\"text-align: right;\">\n",
       "      <th></th>\n",
       "      <th>species</th>\n",
       "      <th>island</th>\n",
       "      <th>bill_length_mm</th>\n",
       "      <th>bill_depth_mm</th>\n",
       "      <th>flipper_length_mm</th>\n",
       "      <th>body_mass_g</th>\n",
       "      <th>sex</th>\n",
       "    </tr>\n",
       "  </thead>\n",
       "  <tbody>\n",
       "    <tr>\n",
       "      <th>0</th>\n",
       "      <td>Adelie</td>\n",
       "      <td>Torgersen</td>\n",
       "      <td>39.1</td>\n",
       "      <td>18.7</td>\n",
       "      <td>181.0</td>\n",
       "      <td>3750.0</td>\n",
       "      <td>Male</td>\n",
       "    </tr>\n",
       "    <tr>\n",
       "      <th>1</th>\n",
       "      <td>Adelie</td>\n",
       "      <td>Torgersen</td>\n",
       "      <td>39.5</td>\n",
       "      <td>17.4</td>\n",
       "      <td>186.0</td>\n",
       "      <td>3800.0</td>\n",
       "      <td>Female</td>\n",
       "    </tr>\n",
       "    <tr>\n",
       "      <th>2</th>\n",
       "      <td>Adelie</td>\n",
       "      <td>Torgersen</td>\n",
       "      <td>40.3</td>\n",
       "      <td>18.0</td>\n",
       "      <td>195.0</td>\n",
       "      <td>3250.0</td>\n",
       "      <td>Female</td>\n",
       "    </tr>\n",
       "    <tr>\n",
       "      <th>3</th>\n",
       "      <td>Adelie</td>\n",
       "      <td>Torgersen</td>\n",
       "      <td>NaN</td>\n",
       "      <td>NaN</td>\n",
       "      <td>NaN</td>\n",
       "      <td>NaN</td>\n",
       "      <td>NaN</td>\n",
       "    </tr>\n",
       "    <tr>\n",
       "      <th>4</th>\n",
       "      <td>Adelie</td>\n",
       "      <td>Torgersen</td>\n",
       "      <td>36.7</td>\n",
       "      <td>19.3</td>\n",
       "      <td>193.0</td>\n",
       "      <td>3450.0</td>\n",
       "      <td>Female</td>\n",
       "    </tr>\n",
       "  </tbody>\n",
       "</table>\n",
       "</div>"
      ],
      "text/plain": [
       "  species     island  bill_length_mm  bill_depth_mm  flipper_length_mm  \\\n",
       "0  Adelie  Torgersen            39.1           18.7              181.0   \n",
       "1  Adelie  Torgersen            39.5           17.4              186.0   \n",
       "2  Adelie  Torgersen            40.3           18.0              195.0   \n",
       "3  Adelie  Torgersen             NaN            NaN                NaN   \n",
       "4  Adelie  Torgersen            36.7           19.3              193.0   \n",
       "\n",
       "   body_mass_g     sex  \n",
       "0       3750.0    Male  \n",
       "1       3800.0  Female  \n",
       "2       3250.0  Female  \n",
       "3          NaN     NaN  \n",
       "4       3450.0  Female  "
      ]
     },
     "execution_count": 25,
     "metadata": {},
     "output_type": "execute_result"
    }
   ],
   "source": [
    "#loading the required dataset from seaborn\n",
    "penguins=sns.load_dataset('penguins')\n",
    "penguins.head()   "
   ]
  },
  {
   "cell_type": "code",
   "execution_count": 59,
   "id": "10a572f1-0ae4-4576-8829-8538ff31ffab",
   "metadata": {},
   "outputs": [
    {
     "data": {
      "text/plain": [
       "species              0\n",
       "island               0\n",
       "bill_depth_mm        0\n",
       "flipper_length_mm    0\n",
       "body_mass_g          0\n",
       "sex                  0\n",
       "dtype: int64"
      ]
     },
     "execution_count": 59,
     "metadata": {},
     "output_type": "execute_result"
    }
   ],
   "source": [
    "#finding the missing values using isnull() method of \n",
    "penguins.isnull().sum().sort_values(ascending=False)"
   ]
  },
  {
   "cell_type": "code",
   "execution_count": 28,
   "id": "16c63408-2c7e-4b55-a9a8-7e64f3162c12",
   "metadata": {},
   "outputs": [],
   "source": [
    "#deleting the bill_length_mm column as it contains the missing values\n",
    "penguins.drop('bill_length_mm', inplace=True, axis=1)"
   ]
  },
  {
   "cell_type": "code",
   "execution_count": 31,
   "id": "83860a8a-82aa-4a23-bec3-78aecdb29d5e",
   "metadata": {},
   "outputs": [],
   "source": [
    "#filling the missing values of bill_depth_mm with the median of bill_depth_mm column\n",
    "penguins['bill_depth_mm']=penguins['bill_depth_mm'].fillna(penguins['bill_depth_mm'].median())"
   ]
  },
  {
   "cell_type": "code",
   "execution_count": 33,
   "id": "b8c495e5-e486-4eb5-998f-7c228abd1636",
   "metadata": {},
   "outputs": [],
   "source": [
    "#filling the missing values of body_mass_g using the mean of body_mass_g column\n",
    "mean_of_column=penguins['body_mass_g'].mean()\n",
    "penguins['body_mass_g']=penguins['body_mass_g'].fillna(mean_of_column)"
   ]
  },
  {
   "cell_type": "code",
   "execution_count": 51,
   "id": "f52e9eca-8731-4c04-beb4-9420d44ca8c5",
   "metadata": {},
   "outputs": [
    {
     "name": "stdout",
     "output_type": "stream",
     "text": [
      "0    Male\n",
      "Name: sex, dtype: object\n"
     ]
    }
   ],
   "source": [
    "#filling the missing values of sex column with the mode of sex column\n",
    "mode_of_sex_column=penguins['sex'].mode()   #this is the code to find the mode of any column\n",
    "penguins['sex']=penguins['sex'].fillna(penguins['sex'].mode()[0])"
   ]
  },
  {
   "cell_type": "code",
   "execution_count": 56,
   "id": "891a2bea-a7b2-451f-9c7a-6e91d87e780e",
   "metadata": {},
   "outputs": [],
   "source": [
    "#importing imputer from sklearn library\n",
    "from sklearn.impute import SimpleImputer"
   ]
  },
  {
   "cell_type": "code",
   "execution_count": 58,
   "id": "22a05fc6-afdd-402a-a3fc-15078f6f3f35",
   "metadata": {},
   "outputs": [],
   "source": [
    "#filling the missing values of flipper_length_mm column using SingleImputer and median\n",
    "imputer=SimpleImputer(strategy='median')\n",
    "penguins['flipper_length_mm']=imputer.fit_transform(penguins[['flipper_length_mm']])"
   ]
  },
  {
   "cell_type": "code",
   "execution_count": null,
   "id": "46379778-3b89-4d1e-a503-1811a8210a42",
   "metadata": {},
   "outputs": [],
   "source": [
    "#the missing values can also be handled by other techniques which you can further view on codanics.com in book abc of statistics\n",
    "#here now our dataset is free from all the missing values"
   ]
  }
 ],
 "metadata": {
  "kernelspec": {
   "display_name": "Python 3 (ipykernel)",
   "language": "python",
   "name": "python3"
  },
  "language_info": {
   "codemirror_mode": {
    "name": "ipython",
    "version": 3
   },
   "file_extension": ".py",
   "mimetype": "text/x-python",
   "name": "python",
   "nbconvert_exporter": "python",
   "pygments_lexer": "ipython3",
   "version": "3.12.3"
  }
 },
 "nbformat": 4,
 "nbformat_minor": 5
}
