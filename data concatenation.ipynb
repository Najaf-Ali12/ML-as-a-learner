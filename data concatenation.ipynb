{
 "cells": [
  {
   "cell_type": "code",
   "execution_count": 2,
   "id": "62e5e7e3-8e8d-4ae7-9d3f-2a32bee85ff8",
   "metadata": {},
   "outputs": [
    {
     "name": "stdout",
     "output_type": "stream",
     "text": [
      "     Name  Age\n",
      "0   Ahmed   28\n",
      "1  Fatima   32\n",
      "2     Ali   24\n",
      "0    Sara   29\n",
      "1   Usman   35\n",
      "2   Aisha   27\n",
      ";;;;;;;;;;;;;;;;;;;;;;;;;;;;;;\n"
     ]
    },
    {
     "data": {
      "text/html": [
       "<div>\n",
       "<style scoped>\n",
       "    .dataframe tbody tr th:only-of-type {\n",
       "        vertical-align: middle;\n",
       "    }\n",
       "\n",
       "    .dataframe tbody tr th {\n",
       "        vertical-align: top;\n",
       "    }\n",
       "\n",
       "    .dataframe thead th {\n",
       "        text-align: right;\n",
       "    }\n",
       "</style>\n",
       "<table border=\"1\" class=\"dataframe\">\n",
       "  <thead>\n",
       "    <tr style=\"text-align: right;\">\n",
       "      <th></th>\n",
       "      <th>Name</th>\n",
       "      <th>Age</th>\n",
       "      <th>City</th>\n",
       "      <th>Province</th>\n",
       "    </tr>\n",
       "  </thead>\n",
       "  <tbody>\n",
       "    <tr>\n",
       "      <th>0</th>\n",
       "      <td>Ahmed</td>\n",
       "      <td>28</td>\n",
       "      <td>Karachi</td>\n",
       "      <td>Sindh</td>\n",
       "    </tr>\n",
       "    <tr>\n",
       "      <th>1</th>\n",
       "      <td>Fatima</td>\n",
       "      <td>32</td>\n",
       "      <td>Lahore</td>\n",
       "      <td>Punjab</td>\n",
       "    </tr>\n",
       "    <tr>\n",
       "      <th>2</th>\n",
       "      <td>Ali</td>\n",
       "      <td>24</td>\n",
       "      <td>Islamabad</td>\n",
       "      <td>Islamabad</td>\n",
       "    </tr>\n",
       "  </tbody>\n",
       "</table>\n",
       "</div>"
      ],
      "text/plain": [
       "     Name  Age       City   Province\n",
       "0   Ahmed   28    Karachi      Sindh\n",
       "1  Fatima   32     Lahore     Punjab\n",
       "2     Ali   24  Islamabad  Islamabad"
      ]
     },
     "execution_count": 2,
     "metadata": {},
     "output_type": "execute_result"
    }
   ],
   "source": [
    "import pandas as pd\n",
    "\n",
    "# Example datasets for Pakistani context\n",
    "# Dataset 1 - Pakistani Names and Ages\n",
    "data1 = {'Name': ['Ahmed', 'Fatima', 'Ali'], 'Age': [28, 32, 24]}\n",
    "# Dataset 2 - More Pakistani Names and Ages\n",
    "data2 = {'Name': ['Sara', 'Usman', 'Aisha'], 'Age': [29, 35, 27]}\n",
    "# Dataset 3 - Cities and Provinces in Pakistan\n",
    "data3 = {'City': ['Karachi', 'Lahore', 'Islamabad'], 'Province': ['Sindh', 'Punjab', 'Islamabad']}\n",
    "#converting all three datasets in dataframes of pandas\n",
    "df1 = pd.DataFrame(data1)\n",
    "df2 = pd.DataFrame(data2)\n",
    "df3 = pd.DataFrame(data3)\n",
    "\n",
    "# Concatenating Rows\n",
    "concatenated_rows = pd.concat([df1, df2])   #for concatenating rows axis=0 which is default that's why not written\n",
    "# Concatenating Columns\n",
    "# Note: For a meaningful column-wise concatenation, dataframes should have the same number of rows.\n",
    "concatenated_columns = pd.concat([df1, df3], axis=1)\n",
    "print(concatenated_rows)\n",
    "print(\";;;;;;;;;;;;;;;;;;;;;;;;;;;;;;\")\n",
    "concatenated_columns"
   ]
  }
 ],
 "metadata": {
  "kernelspec": {
   "display_name": "Python 3 (ipykernel)",
   "language": "python",
   "name": "python3"
  },
  "language_info": {
   "codemirror_mode": {
    "name": "ipython",
    "version": 3
   },
   "file_extension": ".py",
   "mimetype": "text/x-python",
   "name": "python",
   "nbconvert_exporter": "python",
   "pygments_lexer": "ipython3",
   "version": "3.12.3"
  }
 },
 "nbformat": 4,
 "nbformat_minor": 5
}
