{
 "cells": [
  {
   "cell_type": "code",
   "execution_count": 3,
   "id": "7796948e-5bd5-4d8b-8e2c-a68da68ade29",
   "metadata": {},
   "outputs": [],
   "source": [
    "#importing pandas\n",
    "import pandas as pd"
   ]
  },
  {
   "cell_type": "code",
   "execution_count": 4,
   "id": "8a404460-c165-490f-88ec-bfe740013256",
   "metadata": {},
   "outputs": [
    {
     "data": {
      "text/html": [
       "<div>\n",
       "<style scoped>\n",
       "    .dataframe tbody tr th:only-of-type {\n",
       "        vertical-align: middle;\n",
       "    }\n",
       "\n",
       "    .dataframe tbody tr th {\n",
       "        vertical-align: top;\n",
       "    }\n",
       "\n",
       "    .dataframe thead th {\n",
       "        text-align: right;\n",
       "    }\n",
       "</style>\n",
       "<table border=\"1\" class=\"dataframe\">\n",
       "  <thead>\n",
       "    <tr style=\"text-align: right;\">\n",
       "      <th></th>\n",
       "      <th>Numbers</th>\n",
       "    </tr>\n",
       "  </thead>\n",
       "  <tbody>\n",
       "    <tr>\n",
       "      <th>0</th>\n",
       "      <td>10</td>\n",
       "    </tr>\n",
       "    <tr>\n",
       "      <th>1</th>\n",
       "      <td>12</td>\n",
       "    </tr>\n",
       "    <tr>\n",
       "      <th>2</th>\n",
       "      <td>15</td>\n",
       "    </tr>\n",
       "    <tr>\n",
       "      <th>3</th>\n",
       "      <td>18</td>\n",
       "    </tr>\n",
       "    <tr>\n",
       "      <th>4</th>\n",
       "      <td>20</td>\n",
       "    </tr>\n",
       "    <tr>\n",
       "      <th>5</th>\n",
       "      <td>22</td>\n",
       "    </tr>\n",
       "    <tr>\n",
       "      <th>6</th>\n",
       "      <td>25</td>\n",
       "    </tr>\n",
       "    <tr>\n",
       "      <th>7</th>\n",
       "      <td>28</td>\n",
       "    </tr>\n",
       "    <tr>\n",
       "      <th>8</th>\n",
       "      <td>30</td>\n",
       "    </tr>\n",
       "    <tr>\n",
       "      <th>9</th>\n",
       "      <td>-50</td>\n",
       "    </tr>\n",
       "    <tr>\n",
       "      <th>10</th>\n",
       "      <td>-60</td>\n",
       "    </tr>\n",
       "    <tr>\n",
       "      <th>11</th>\n",
       "      <td>-70</td>\n",
       "    </tr>\n",
       "  </tbody>\n",
       "</table>\n",
       "</div>"
      ],
      "text/plain": [
       "    Numbers\n",
       "0        10\n",
       "1        12\n",
       "2        15\n",
       "3        18\n",
       "4        20\n",
       "5        22\n",
       "6        25\n",
       "7        28\n",
       "8        30\n",
       "9       -50\n",
       "10      -60\n",
       "11      -70"
      ]
     },
     "execution_count": 4,
     "metadata": {},
     "output_type": "execute_result"
    }
   ],
   "source": [
    "#creating dataframe in which we are going to find the outlier\n",
    "data=pd.DataFrame({\"Numbers\":[10, 12, 15, 18, 20, 22, 25, 28, 30, -50, -60, -70]})\n",
    "data"
   ]
  },
  {
   "cell_type": "code",
   "execution_count": 5,
   "id": "a4b26bb3-d72d-44c8-b37a-7b0835056258",
   "metadata": {},
   "outputs": [],
   "source": [
    "#Finding the standard deviation and mean as they are crucial to find z-score\n",
    "mean=data[\"Numbers\"].mean()\n",
    "std=data[\"Numbers\"].std()"
   ]
  },
  {
   "cell_type": "code",
   "execution_count": 6,
   "id": "99157937-1e84-4fcb-aa24-5b61706390d5",
   "metadata": {},
   "outputs": [
    {
     "data": {
      "text/plain": [
       "0     0.270928\n",
       "1     0.325113\n",
       "2     0.406392\n",
       "3     0.487670\n",
       "4     0.541855\n",
       "5     0.596041\n",
       "6     0.677319\n",
       "7     0.758598\n",
       "8     0.812783\n",
       "9    -1.354639\n",
       "10   -1.625566\n",
       "11   -1.896494\n",
       "Name: Z-score, dtype: float64"
      ]
     },
     "execution_count": 6,
     "metadata": {},
     "output_type": "execute_result"
    }
   ],
   "source": [
    "#finding z-score of column Numbers using formula z-score=(data[\"Numbers\"]-mean)/std\n",
    "data[\"Z-score\"]=(data[\"Numbers\"]-mean)/std\n",
    "data[\"Z-score\"]"
   ]
  },
  {
   "cell_type": "code",
   "execution_count": 7,
   "id": "037416ac-3ec7-4d67-aa34-03b75e8e3ac8",
   "metadata": {},
   "outputs": [
    {
     "data": {
      "text/html": [
       "<div>\n",
       "<style scoped>\n",
       "    .dataframe tbody tr th:only-of-type {\n",
       "        vertical-align: middle;\n",
       "    }\n",
       "\n",
       "    .dataframe tbody tr th {\n",
       "        vertical-align: top;\n",
       "    }\n",
       "\n",
       "    .dataframe thead th {\n",
       "        text-align: right;\n",
       "    }\n",
       "</style>\n",
       "<table border=\"1\" class=\"dataframe\">\n",
       "  <thead>\n",
       "    <tr style=\"text-align: right;\">\n",
       "      <th></th>\n",
       "      <th>Numbers</th>\n",
       "      <th>Z-score</th>\n",
       "    </tr>\n",
       "  </thead>\n",
       "  <tbody>\n",
       "    <tr>\n",
       "      <th>9</th>\n",
       "      <td>-50</td>\n",
       "      <td>-1.354639</td>\n",
       "    </tr>\n",
       "    <tr>\n",
       "      <th>10</th>\n",
       "      <td>-60</td>\n",
       "      <td>-1.625566</td>\n",
       "    </tr>\n",
       "    <tr>\n",
       "      <th>11</th>\n",
       "      <td>-70</td>\n",
       "      <td>-1.896494</td>\n",
       "    </tr>\n",
       "  </tbody>\n",
       "</table>\n",
       "</div>"
      ],
      "text/plain": [
       "    Numbers   Z-score\n",
       "9       -50 -1.354639\n",
       "10      -60 -1.625566\n",
       "11      -70 -1.896494"
      ]
     },
     "execution_count": 7,
     "metadata": {},
     "output_type": "execute_result"
    }
   ],
   "source": [
    "#lets we keep threshold <0 means numbers whose z-score<0 are outliers\n",
    "outliers=data[data[\"Z-score\"]<0]\n",
    "outliers"
   ]
  },
  {
   "cell_type": "code",
   "execution_count": 9,
   "id": "e8fc3201-9b44-4ddd-b948-6dc727847479",
   "metadata": {},
   "outputs": [
    {
     "name": "stdout",
     "output_type": "stream",
     "text": [
      "data without outliers is given below \n",
      "   Numbers   Z-score\n",
      "0       10  0.270928\n",
      "1       12  0.325113\n",
      "2       15  0.406392\n",
      "3       18  0.487670\n",
      "4       20  0.541855\n",
      "5       22  0.596041\n",
      "6       25  0.677319\n",
      "7       28  0.758598\n",
      "8       30  0.812783\n"
     ]
    }
   ],
   "source": [
    "#printing the numbers excepts outliers\n",
    "data=data[data[\"Z-score\"]>=0]  #here we reassign values to data but it must be outlier free data\n",
    "print(\"data without outliers is given below \")\n",
    "print(data)"
   ]
  },
  {
   "cell_type": "code",
   "execution_count": null,
   "id": "12a999fa-5b4c-419d-9684-14771ba37532",
   "metadata": {},
   "outputs": [],
   "source": []
  }
 ],
 "metadata": {
  "kernelspec": {
   "display_name": "Python 3 (ipykernel)",
   "language": "python",
   "name": "python3"
  },
  "language_info": {
   "codemirror_mode": {
    "name": "ipython",
    "version": 3
   },
   "file_extension": ".py",
   "mimetype": "text/x-python",
   "name": "python",
   "nbconvert_exporter": "python",
   "pygments_lexer": "ipython3",
   "version": "3.12.3"
  }
 },
 "nbformat": 4,
 "nbformat_minor": 5
}
