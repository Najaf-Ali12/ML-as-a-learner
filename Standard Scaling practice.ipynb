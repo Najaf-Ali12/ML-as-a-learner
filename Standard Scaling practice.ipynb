{
 "cells": [
  {
   "cell_type": "code",
   "execution_count": 20,
   "id": "1e7a1221-6af3-4070-89be-3195988b8579",
   "metadata": {},
   "outputs": [],
   "source": [
    "#importing required libraries\n",
    "import pandas as pd\n",
    "from sklearn.preprocessing import StandardScaler"
   ]
  },
  {
   "cell_type": "code",
   "execution_count": 21,
   "id": "54994c65-ba4a-47a1-be21-23313fce4a37",
   "metadata": {},
   "outputs": [],
   "source": [
    "#creating data to practice standard scaling\n",
    "data = {'Age': [25, 30, 35, 40, 45, 50],\n",
    "        'Income': [30000, 35000, 40000, 45000, 50000, 55000]}"
   ]
  },
  {
   "cell_type": "code",
   "execution_count": 22,
   "id": "8faf036d-edfd-45ec-8ddc-18a21e9a8499",
   "metadata": {},
   "outputs": [
    {
     "name": "stdout",
     "output_type": "stream",
     "text": [
      "The required data frame is \n",
      "      Age  Income\n",
      "Row1   25   30000\n",
      "Row2   30   35000\n",
      "Row3   35   40000\n",
      "Row4   40   45000\n",
      "Row5   45   50000\n",
      "Row6   50   55000\n"
     ]
    }
   ],
   "source": [
    "#creating the dataframe of given data\n",
    "df=pd.DataFrame(data,index=[\"Row1\",\"Row2\",\"Row3\",\"Row4\",\"Row5\",\"Row6\"])\n",
    "print(\"The required data frame is \")\n",
    "print(df)"
   ]
  },
  {
   "cell_type": "code",
   "execution_count": 23,
   "id": "521f0dc2-0d42-4728-9623-2e113ce07646",
   "metadata": {},
   "outputs": [
    {
     "name": "stdout",
     "output_type": "stream",
     "text": [
      "[[-1.46385011 -1.46385011]\n",
      " [-0.87831007 -0.87831007]\n",
      " [-0.29277002 -0.29277002]\n",
      " [ 0.29277002  0.29277002]\n",
      " [ 0.87831007  0.87831007]\n",
      " [ 1.46385011  1.46385011]]\n"
     ]
    }
   ],
   "source": [
    "#main lines of standard scaling\n",
    "scaler=StandardScaler()\n",
    "standard_scaled_data=scaler.fit_transform(df)\n",
    "print(standard_scaled_data)"
   ]
  },
  {
   "cell_type": "code",
   "execution_count": 24,
   "id": "21f7c382-2151-40e1-a67a-c06b4183a537",
   "metadata": {},
   "outputs": [
    {
     "data": {
      "text/html": [
       "<div>\n",
       "<style scoped>\n",
       "    .dataframe tbody tr th:only-of-type {\n",
       "        vertical-align: middle;\n",
       "    }\n",
       "\n",
       "    .dataframe tbody tr th {\n",
       "        vertical-align: top;\n",
       "    }\n",
       "\n",
       "    .dataframe thead th {\n",
       "        text-align: right;\n",
       "    }\n",
       "</style>\n",
       "<table border=\"1\" class=\"dataframe\">\n",
       "  <thead>\n",
       "    <tr style=\"text-align: right;\">\n",
       "      <th></th>\n",
       "      <th>Age</th>\n",
       "      <th>Income</th>\n",
       "    </tr>\n",
       "  </thead>\n",
       "  <tbody>\n",
       "    <tr>\n",
       "      <th>0</th>\n",
       "      <td>-1.46385</td>\n",
       "      <td>-1.46385</td>\n",
       "    </tr>\n",
       "    <tr>\n",
       "      <th>1</th>\n",
       "      <td>-0.87831</td>\n",
       "      <td>-0.87831</td>\n",
       "    </tr>\n",
       "    <tr>\n",
       "      <th>2</th>\n",
       "      <td>-0.29277</td>\n",
       "      <td>-0.29277</td>\n",
       "    </tr>\n",
       "    <tr>\n",
       "      <th>3</th>\n",
       "      <td>0.29277</td>\n",
       "      <td>0.29277</td>\n",
       "    </tr>\n",
       "    <tr>\n",
       "      <th>4</th>\n",
       "      <td>0.87831</td>\n",
       "      <td>0.87831</td>\n",
       "    </tr>\n",
       "    <tr>\n",
       "      <th>5</th>\n",
       "      <td>1.46385</td>\n",
       "      <td>1.46385</td>\n",
       "    </tr>\n",
       "  </tbody>\n",
       "</table>\n",
       "</div>"
      ],
      "text/plain": [
       "       Age   Income\n",
       "0 -1.46385 -1.46385\n",
       "1 -0.87831 -0.87831\n",
       "2 -0.29277 -0.29277\n",
       "3  0.29277  0.29277\n",
       "4  0.87831  0.87831\n",
       "5  1.46385  1.46385"
      ]
     },
     "execution_count": 24,
     "metadata": {},
     "output_type": "execute_result"
    }
   ],
   "source": [
    "#now writing down the scaled data in the form of dataframe\n",
    "scaled=pd.DataFrame(standard_scaled_data, columns=df.columns)\n",
    "scaled"
   ]
  },
  {
   "cell_type": "code",
   "execution_count": null,
   "id": "a33f837e-c01e-4fe0-8a36-141f32f12110",
   "metadata": {},
   "outputs": [],
   "source": []
  },
  {
   "cell_type": "code",
   "execution_count": null,
   "id": "55b0e3ba-9957-4422-a5da-d866681e8007",
   "metadata": {},
   "outputs": [],
   "source": []
  }
 ],
 "metadata": {
  "kernelspec": {
   "display_name": "Python 3 (ipykernel)",
   "language": "python",
   "name": "python3"
  },
  "language_info": {
   "codemirror_mode": {
    "name": "ipython",
    "version": 3
   },
   "file_extension": ".py",
   "mimetype": "text/x-python",
   "name": "python",
   "nbconvert_exporter": "python",
   "pygments_lexer": "ipython3",
   "version": "3.12.3"
  }
 },
 "nbformat": 4,
 "nbformat_minor": 5
}
